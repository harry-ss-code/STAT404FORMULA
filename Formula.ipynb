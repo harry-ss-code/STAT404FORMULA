{
 "cells": [
  {
   "cell_type": "markdown",
   "id": "5bc11f26-3ab1-465b-baa6-67e78d4ff189",
   "metadata": {},
   "source": [
    "* Bayes formula states $$P(A_i|B) = \\frac{P(B|A_i)P(A_i)}{P(B|A_1)P(A_1)+P(B|A_2)P(A_2)+P(B|A_3)P(A_3)}.$$"
   ]
  },
  {
   "cell_type": "markdown",
   "id": "74139ad4-4f85-41d3-ab6f-ff59903bdd9c",
   "metadata": {},
   "source": [
    "### Sample mean and variance\n",
    "\n",
    "\\begin{eqnarray*}\n",
    "\\bar y_n \n",
    "&=&\n",
    " (y_1 + y_2 + \\cdots + y_n)/n = n^{-1} \\sum_{i=1}^n y_i;\\\\\n",
    "s_n^2 \n",
    "&=&\n",
    " \\{ (y_1 - \\bar y)^2 + (y_2 - \\bar y)^2 + \\cdots + (y_n - \\bar y)^2 \\}/(n-1)\n",
    "= (n-1)^{-1}  \\sum_{i=1}^n (y_i - \\bar y)^2.\n",
    "\\end{eqnarray*}"
   ]
  },
  {
   "cell_type": "markdown",
   "id": "3eac784a-8040-4604-91a9-1e0228af301e",
   "metadata": {},
   "source": [
    "### Population mean and variance\n",
    "\n",
    "Suppose $\\mu = E(Y)$ and $\\sigma^2 = Var(Y)$.\n",
    "We have\n",
    "\\begin{eqnarray*}\n",
    "E(\\bar{y}_n) &=&\n",
    "n^{-1} \\sum_{i=1}^n E (y_i) = \\mu;\\\\\n",
    "Var(\\bar y_n) &=&\n",
    "n^{-2} \\sum_{i=1}^n Var(y_i) = \\sigma^2/n\n",
    "\\end{eqnarray*}\n"
   ]
  },
  {
   "cell_type": "markdown",
   "id": "caa501d1-2303-4cf2-88d1-1f3f5012d0d3",
   "metadata": {
    "tags": []
   },
   "source": [
    "### Sample variance\n",
    "\n",
    "We may find sample variance is also given by\n",
    "$$\n",
    "s^2 = \\mbox{average of } \\{ (y_i - y_j)^2/2\\}  \\mbox{ for } i \\neq j\n",
    "$$\n",
    "Trust me for the moment.\n",
    "\n",
    "It is seen that\n",
    "$$\n",
    "E\\{ (y_1 - y_2)^2\\} = Var(y_1) + Var(y_2) = 2 \\sigma^2.\n",
    "$$\n",
    "Hence,\n",
    "$$\n",
    "E (s^2) = \\{ \\mbox{average of } E \\{ (y_i - y_j)^2/2\\}  \\mbox{ for } i \\neq j \\} = \\sigma^2.\n",
    "$$\n",
    "\n",
    "Because of this, we say $s^2$ is an unbiased estimator of $\\sigma^2$."
   ]
  },
  {
   "cell_type": "markdown",
   "id": "b2de2e2e-85d4-4363-bd44-b286b27c9567",
   "metadata": {},
   "source": []
  },
  {
   "cell_type": "markdown",
   "id": "4fe957c3-10d1-48ad-9a3e-f23c7c6df511",
   "metadata": {},
   "source": []
  },
  {
   "cell_type": "markdown",
   "id": "f4ba5029-f8cd-4d80-835d-0fcb50760e2e",
   "metadata": {},
   "source": []
  },
  {
   "cell_type": "markdown",
   "id": "2fead527-16d5-48a9-a900-4807b4c7daca",
   "metadata": {},
   "source": []
  },
  {
   "cell_type": "markdown",
   "id": "e710475e-4d3d-44ec-b598-4a02d1897429",
   "metadata": {},
   "source": []
  },
  {
   "cell_type": "markdown",
   "id": "09cbfcd5-7f4d-42fc-b47e-7a58c405b0e3",
   "metadata": {},
   "source": []
  },
  {
   "cell_type": "markdown",
   "id": "88ae759e-f8ec-4c87-aad3-4bf05ab3c724",
   "metadata": {},
   "source": []
  },
  {
   "cell_type": "markdown",
   "id": "a54d0656-1aa9-4cb0-9aad-5ac0b953d00c",
   "metadata": {},
   "source": []
  }
 ],
 "metadata": {
  "kernelspec": {
   "display_name": "R",
   "language": "R",
   "name": "ir"
  },
  "language_info": {
   "codemirror_mode": "r",
   "file_extension": ".r",
   "mimetype": "text/x-r-source",
   "name": "R",
   "pygments_lexer": "r",
   "version": "4.0.5"
  }
 },
 "nbformat": 4,
 "nbformat_minor": 5
}
