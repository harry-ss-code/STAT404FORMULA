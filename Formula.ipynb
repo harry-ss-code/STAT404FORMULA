{
 "cells": [
  {
   "cell_type": "markdown",
   "id": "5bc11f26-3ab1-465b-baa6-67e78d4ff189",
   "metadata": {},
   "source": [
    "* Bayes formula states $$P(A_i|B) = \\frac{P(B|A_i)P(A_i)}{P(B|A_1)P(A_1)+P(B|A_2)P(A_2)+P(B|A_3)P(A_3)}.$$"
   ]
  },
  {
   "cell_type": "markdown",
   "id": "74139ad4-4f85-41d3-ab6f-ff59903bdd9c",
   "metadata": {},
   "source": [
    "### Sample mean and variance\n",
    "\n",
    "\\begin{eqnarray*}\n",
    "\\bar y_n \n",
    "&=&\n",
    " (y_1 + y_2 + \\cdots + y_n)/n = n^{-1} \\sum_{i=1}^n y_i;\\\\\n",
    "s_n^2 \n",
    "&=&\n",
    " \\{ (y_1 - \\bar y)^2 + (y_2 - \\bar y)^2 + \\cdots + (y_n - \\bar y)^2 \\}/(n-1)\n",
    "= (n-1)^{-1}  \\sum_{i=1}^n (y_i - \\bar y)^2.\n",
    "\\end{eqnarray*}"
   ]
  },
  {
   "cell_type": "markdown",
   "id": "3eac784a-8040-4604-91a9-1e0228af301e",
   "metadata": {},
   "source": [
    "### Population mean and variance\n",
    "\n",
    "Suppose $\\mu = E(Y)$ and $\\sigma^2 = Var(Y)$.\n",
    "We have\n",
    "\\begin{eqnarray*}\n",
    "E(\\bar{y}_n) &=&\n",
    "n^{-1} \\sum_{i=1}^n E (y_i) = \\mu;\\\\\n",
    "Var(\\bar y_n) &=&\n",
    "n^{-2} \\sum_{i=1}^n Var(y_i) = \\sigma^2/n\n",
    "\\end{eqnarray*}\n"
   ]
  },
  {
   "cell_type": "markdown",
   "id": "caa501d1-2303-4cf2-88d1-1f3f5012d0d3",
   "metadata": {
    "tags": []
   },
   "source": [
    "### Sample variance\n",
    "\n",
    "We may find sample variance is also given by\n",
    "$$\n",
    "s^2 = \\mbox{average of } \\{ (y_i - y_j)^2/2\\}  \\mbox{ for } i \\neq j\n",
    "$$\n",
    "Trust me for the moment.\n",
    "\n",
    "It is seen that\n",
    "$$\n",
    "E\\{ (y_1 - y_2)^2\\} = Var(y_1) + Var(y_2) = 2 \\sigma^2.\n",
    "$$\n",
    "Hence,\n",
    "$$\n",
    "E (s^2) = \\{ \\mbox{average of } E \\{ (y_i - y_j)^2/2\\}  \\mbox{ for } i \\neq j \\} = \\sigma^2.\n",
    "$$\n",
    "\n",
    "Because of this, we say $s^2$ is an unbiased estimator of $\\sigma^2$."
   ]
  },
  {
   "cell_type": "markdown",
   "id": "b2de2e2e-85d4-4363-bd44-b286b27c9567",
   "metadata": {},
   "source": [
    "### Sample variance algebra\n",
    "\n",
    "In words: the sample variance $s^2$ \n",
    "is the average squared difference between observations.\n",
    "\n",
    "To prove this claim, we note\n",
    "\\begin{eqnarray*}\n",
    "\\sum_{i, j} (y_i - y_j)^2 \n",
    "&=&\n",
    "\\sum_{i, j} \\{  (y_i - \\bar y) - (y_j - \\bar y)\\}^2\\\\\n",
    "&=&\n",
    "n \\sum_{i} (y_i - \\bar y)^2 + n \\sum_{j} (y_j - \\bar y)^2 - 2 \\sum_{i,j}(y_i - \\bar y)(y_j - \\bar y).\n",
    "\\end{eqnarray*}\n",
    "\n",
    "Not too hardly,\n",
    "$$\n",
    " \\sum_{i,j}(y_i - \\bar y)(y_j - \\bar y) = 0.\n",
    "$$\n",
    "Hence,\n",
    "$$\n",
    "\\frac{1}{n(n-1)} \\sum_{i, j} (y_i - y_j)^2 \n",
    " =\n",
    "\\frac{1}{n-1}  \\sum_{i} (y_i - \\bar y)^2 + \\frac{1}{n-1}  \\sum_{j} (y_j - \\bar y)^2 \n",
    "=\n",
    "2 s^2.\n",
    "$$"
   ]
  },
  {
   "cell_type": "markdown",
   "id": "4fe957c3-10d1-48ad-9a3e-f23c7c6df511",
   "metadata": {},
   "source": [
    "### Sample variance algebra\n",
    "\n",
    "Also take note\n",
    "$$\n",
    "\\sum_i (y_i - \\bar y)^2\n",
    "=\n",
    "\\sum_i (y_i^2 - 2 y_i \\bar y + \\bar y^2)\n",
    "=\n",
    "\\sum_i (y_i^2 )  - 2 \\bar y \\sum_i y_i + n \\bar y^2\n",
    "=\n",
    "\\sum_i (y_i^2 )  - 2 n \\bar y^2 + n \\bar y^2 =\n",
    "\\sum_i y_i^2   - n \\bar y^2.\n",
    "$$\n",
    "\n",
    "We get\n",
    "$$\n",
    " \\sum_i (y_i - \\bar y)^2\n",
    "= \\sum_i y_i^2   - n \\bar y^2\n",
    "$$\n",
    "and\n",
    "$$\n",
    " \\sum_i y_i^2 \n",
    "=\\sum_i (y_i - \\bar y)^2\n",
    "+ n \\bar y^2.\n",
    "$$\n",
    " \n",
    "The sum of squares formulas will be used\n",
    "very often."
   ]
  },
  {
   "cell_type": "markdown",
   "id": "f4ba5029-f8cd-4d80-835d-0fcb50760e2e",
   "metadata": {},
   "source": [
    "## Point estimation\n",
    "\n",
    "#### It is our educated and data supported guess of what ${\\mathbf \\beta}$ value is.\n",
    "\n",
    "#### The only requirement for an estimator is: it is a function of data.\n",
    "\n",
    "\n",
    "One way of estimating ${\\mathbf \\beta}$ is to use the value $\\hat {\\mathbf \\beta}$ that minimizes\n",
    "$$\n",
    " ({\\bf y} - {\\bf X} {\\mathbf \\beta})^T ({\\bf y} - {\\bf X} {\\mathbf \\beta}) \n",
    " = \\sum_{i=1}^N (y_i - {\\bf x_i} {\\mathbf \\beta})^2.\n",
    "$$\n",
    "\n",
    "The optimization solution is given by\n",
    "$$\n",
    " \\hat {\\mathbf \\beta} = ( {\\bf X}^T  {\\bf X})^{-1}  {\\bf X}^T {\\bf y}.\n",
    " $$"
   ]
  },
  {
   "cell_type": "markdown",
   "id": "2fead527-16d5-48a9-a900-4807b4c7daca",
   "metadata": {},
   "source": [
    "### Some terminologies\n",
    "\n",
    "* We call $ {\\bf r} = {\\bf y} - {\\bf X} \\hat {\\mathbf \\beta}~$ **residuals**;\n",
    "\n",
    "\n",
    "* We call\n",
    "$\\hat {\\bf y} = {\\bf X} \\hat {\\mathbf \\beta}~$ **fitted values**;\n",
    "\n",
    "\n",
    "* We call $\\hat {\\mathbf \\beta}~$ the **least squares estimate**."
   ]
  },
  {
   "cell_type": "markdown",
   "id": "e710475e-4d3d-44ec-b598-4a02d1897429",
   "metadata": {},
   "source": [
    "## Prediction (better call it CI)\n",
    "\n",
    "Suppose the model is suitable.\n",
    "\n",
    "* Our best guess of the expected $y$ value at ${\\bf x}$ is ${\\bf x} \\hat{\\mathbf \\beta}$: the fitted value.\n",
    "\n",
    "\n",
    "* A 95% CI for ${\\bf x} {\\mathbf \\beta}$ is \n",
    "\n",
    "$$\n",
    "{\\bf x} \\hat{\\mathbf \\beta} \\pm \n",
    "t_{n-k-1, 0.975} \\sqrt{var({\\bf x} \\hat{\\mathbf \\beta})}.\n",
    "$$\n",
    "\n",
    "where $t_{n-k-1, 0.975}$ the 97.5% \n",
    "quantile of the t-distribution with $n-k-1$ degrees of freedom and\n",
    "\n",
    "$$\n",
    "var({\\bf x} \\hat{\\mathbf \\beta}) \n",
    "= {\\bf x}({\\bf X}^T{\\bf X})^{-1}{\\bf x}^T \\hat{\\sigma}^2.\n",
    "$$\n"
   ]
  },
  {
   "cell_type": "markdown",
   "id": "09cbfcd5-7f4d-42fc-b47e-7a58c405b0e3",
   "metadata": {},
   "source": [
    "$$\n",
    "var({\\bf_j} \\hat{\\mathbf \\beta}) \n",
    "= ({\\bf X}^T{\\bf X})_{jj}^{-1} \\hat{\\sigma}^2.\n",
    "$$"
   ]
  },
  {
   "cell_type": "markdown",
   "id": "88ae759e-f8ec-4c87-aad3-4bf05ab3c724",
   "metadata": {},
   "source": [
    "$$\n",
    "\\hat{\\bf y} = x \\hat{\\beta}\n",
    "$$"
   ]
  },
  {
   "cell_type": "markdown",
   "id": "a54d0656-1aa9-4cb0-9aad-5ac0b953d00c",
   "metadata": {},
   "source": [
    "Let us assume the knowledge that the least square estimator (may leave it as an assignment) is given by\n",
    "$$\n",
    " \\hat {\\mathbf \\beta} = ( {\\bf X}^T  {\\bf X})^{-1}  {\\bf X}^T {\\bf y}.\n",
    "$$\n",
    "\n",
    "\n",
    "Given this knowledge, we find\n",
    "\\begin{align*}\n",
    "{\\bf X}^T ( {\\bf y} - {\\bf X} \\hat {\\mathbf \\beta} )\n",
    "& = {\\bf X}^T {\\bf y} - {\\bf X}^T {\\bf X} ( {\\bf X}^T  {\\bf X})^{-1}  {\\bf X}^T {\\bf y}\\\\\n",
    "& = {\\bf X}^T {\\bf y} - {\\bf X}^T {\\bf y}\\\\\n",
    "&= 0.\n",
    "\\end{align*}\n",
    "\n",
    "\n",
    "Since ${\\bf r} = {\\bf y} - {\\bf X} \\hat {\\mathbf \\beta}$, the above conclusion can be written as ${\\bf X}^T {\\bf r} = 0$.\n",
    "\n",
    "\n",
    "* Nothing in the residual is still related to ${\\bf X}$."
   ]
  },
  {
   "cell_type": "markdown",
   "id": "51776a55-4ee0-431f-8c20-bdc55a683718",
   "metadata": {},
   "source": []
  },
  {
   "cell_type": "markdown",
   "id": "6bcf4e37-9e11-48f8-916e-e957164251f0",
   "metadata": {},
   "source": [
    "Because from the above equation we know that ${\\bf y} - {\\bf X} \\hat {\\mathbf \\beta} = 0$ therefore we can also write that equation as $\\bar{\\bf y} - \\bar{\\bf X} \\hat {\\mathbf \\beta}=0$ because the first column of the matrix X are all 1."
   ]
  },
  {
   "cell_type": "markdown",
   "id": "0a5a5815-c6ce-4a74-be33-46410717a621",
   "metadata": {},
   "source": [
    "We may write\n",
    "\\begin{align*}\n",
    "{\\bf y} - \\bar{\\bf y}\n",
    "& = ({\\bf y} - \\bf X \\hat {\\mathbf \\beta})\n",
    "   + (\\bf X \\hat {\\mathbf \\beta} - \\bar{\\bf y})\\\\\n",
    "& = ({\\bf y} - \\bf X \\hat {\\mathbf \\beta})\n",
    "+ (\\bf X - \\bar{\\bf X}) \\hat {\\mathbf \\beta}.\n",
    "\\end{align*}\n",
    "\n",
    "\n",
    "With this decomposition, we find\n",
    "\\begin{align*}\n",
    "({\\bf y} - \\bar{\\bf y})^T ({\\bf y} - \\bar{\\bf y})\n",
    "& = \n",
    "({\\bf y} - \\bf X \\hat {\\mathbf \\beta})^T({\\bf y} - \\bf X \\hat {\\mathbf \\beta})\n",
    " + \n",
    "\\hat {\\mathbf \\beta}^T (\\bf X - \\bar{\\bf X})^T (\\bf X - \\bar{\\bf X}) \\hat {\\mathbf \\beta}\\\\\n",
    "& = \n",
    "({\\bf y} - \\hat{\\bf y})^T({\\bf y} - \\hat{\\bf y})\n",
    " + \n",
    "(\\hat{\\bf y} - \\bar{\\bf y} )^T(\\hat{\\bf y} - \\bar{\\bf y} )\n",
    "\\end{align*}"
   ]
  },
  {
   "cell_type": "markdown",
   "id": "e1d39156-7806-4eb6-9d79-0188c83164f4",
   "metadata": {},
   "source": [
    "Watch closely on the decomposition:\n",
    "\\begin{align*}\n",
    "({\\bf y} - \\bar{\\bf y})^T ({\\bf y} - \\bar{\\bf y})\n",
    "& =  \n",
    "\\hat {\\mathbf \\beta}^T (\\bf X - \\bar{\\bf X})^T (\\bf X - \\bar{\\bf X}) \\hat {\\mathbf \\beta}\n",
    "+\n",
    "({\\bf y} - \\bf X \\hat {\\mathbf \\beta})^T({\\bf y} - \\bf X \\hat {\\mathbf \\beta})\n",
    "\\end{align*}\n",
    "or it is\n",
    "\\begin{align*}\n",
    "({\\bf y} - \\bar{\\bf y})^T ({\\bf y} - \\bar{\\bf y})\n",
    "& = (\\hat {\\bf y} - \\bar {\\bf y})^T (\\hat {\\bf y} - \\bar {\\bf y})\n",
    "+ {\\bf r}^T {\\bf r}\n",
    "\\end{align*}\n",
    "\n",
    "\n",
    "* the LHS is the total variation in ${\\bf y}$.\n",
    "\n",
    "\n",
    "* the first term the RHS the variation in $\\hat {\\bf y}$.\n",
    "\n",
    "\n",
    "* the second term is the variation in residual ${\\bf r}$.\n",
    "\n",
    "\n",
    "This decomposition results in the analysis of variance table (ANOVA):"
   ]
  },
  {
   "cell_type": "markdown",
   "id": "68fd22c2-0ac4-4d72-9a4d-8ce5dc6b0984",
   "metadata": {},
   "source": [
    "\\begin{matrix}\n",
    "\\mbox{Source} & \\mbox{Df} & \\mbox{SS} & \\mbox{MSS} & \\mbox{F} \\\\\n",
    "\\mbox{Regr} & k & \n",
    "(\\hat {\\bf y} - \\bar {\\bf y})^T (\\hat {\\bf y} - \\bar {\\bf y}) \n",
    "&  (\\hat {\\bf y} - \\bar {\\bf y})^T (\\hat {\\bf y} - \\bar {\\bf y}) /k \\\\\n",
    "\\mbox{Residual/error} & N-k-1 & \n",
    "({\\bf y}-{\\bf X}\\hat{\\bf \\beta})^T({\\bf y}-{\\bf X}\\hat{\\bf \\beta}) &\n",
    "({\\bf y}-{\\bf X}\\hat{\\bf \\beta})^T({\\bf y}-{\\bf X}\\hat{\\bf \\beta})/(N-k-1) & \\\\\n",
    "Total & N-1 & {\\bf y}^T{\\bf y}- \\bar{\\bf y}^T\\bar{\\bf y}\n",
    "\\end{matrix}\n",
    "\n",
    "\n",
    "The top-right entry of F should be\n",
    "$$\n",
    "F = \n",
    "\\frac{(\\hat {\\bf y} - \\bar {\\bf y})^T (\\hat {\\bf y} - \\bar {\\bf y}) /k }\n",
    "{({\\bf y}-{\\bf X}\\hat{\\bf \\beta})^T({\\bf y}-{\\bf X}\\hat{\\bf \\beta})/(N-k-1)}\n",
    "=\\dfrac{MSS_{regr}}{MSS_{error}}.\n",
    "$$"
   ]
  },
  {
   "cell_type": "markdown",
   "id": "ecd081a2-e449-4ebf-bc81-d4c64fce6440",
   "metadata": {},
   "source": [
    "$$ \n",
    " T = \\frac{\\hat{\\beta_j}}{se(\\hat{\\beta_j})} = \\frac{\\hat{\\beta_j}}{\\sqrt{\\hat{\\sigma}^2(X^TX)_{jj}^{-1}}}\n",
    "$$\n",
    "\n",
    "\n",
    "$$\n",
    " {se(\\hat{\\beta_j})} ={\\sqrt{\\hat{\\sigma}^2(X^TX)_{jj}^{-1}}}\n",
    "$$\n",
    "\n",
    "\n",
    "$$\n",
    "\\hat{\\sigma}^2 = MSS error\n",
    "$$"
   ]
  },
  {
   "cell_type": "markdown",
   "id": "0f87618f-091b-4633-a012-a19755aecde7",
   "metadata": {},
   "source": [
    "How to know whether it is a good fitting?\n",
    "\n",
    "$$\n",
    "R^2 \n",
    "= \\frac{ \n",
    "(\\hat{\\bf y}-\\bar{\\bf y})^T(\\hat{\\bf y}-\\bar{\\bf y})}\n",
    "{({\\bf y} - \\bar {\\bf y})^T ({\\bf y} - \\bar {\\bf y}) }.\n",
    "$$\n",
    "\n",
    "\n",
    "if $R^2$ big then it is a  good fit\n"
   ]
  },
  {
   "cell_type": "markdown",
   "id": "c98dec50-1f47-4ac7-b126-f325f4d07b30",
   "metadata": {},
   "source": [
    "### Variance of the experiment error \n",
    "\n",
    "We use the residual mean square to estimate $\\sigma^2$:\n",
    "$$\n",
    "\\hat \\sigma^2 \n",
    "= \n",
    "\\frac{ \n",
    "{\\bf r}^T {\\bf r}}{N-k-1}\n",
    "=\n",
    "\\frac{\n",
    "({\\bf y}-\\hat{\\bf y})^T({\\bf y}-\\hat{\\bf y})}{(N-k-1)}.\n",
    "$$\n",
    "\n",
    "\n",
    "* If $\\hat {\\bf \\beta} = {\\bf \\beta}$, \n",
    "we would have ${\\bf r} = {\\bf \\epsilon}$. \n",
    "* The estimator is explained by $var(\\epsilon_i) = \\sigma^2$ \n",
    "according to the model assumption."
   ]
  },
  {
   "cell_type": "markdown",
   "id": "b98ec999-7ca5-4473-931c-ff5139a55370",
   "metadata": {},
   "source": []
  },
  {
   "cell_type": "markdown",
   "id": "cbcd2b65-8974-4d65-ba9a-d9e05ea9d17a",
   "metadata": {},
   "source": [
    "# 2 samples(2.2)\n",
    "### Standard data analysis\n",
    "\n",
    "Compute the sample means and variances\n",
    "\n",
    "$$\n",
    "\\bar y_1 = n_1^{-1} \\sum_{i=1}^{n_1} y_{1i}; ~~~\n",
    "\\bar y_2 = n_2^{-1} \\sum_{i=1}^{n_2} y_{2i}.\n",
    "$$\n",
    "and\n",
    "\n",
    "$$\n",
    "s_1^2 = (n_1-1)^{-1} \\sum_i (y_{1i} - \\bar y_1)^2; ~~\n",
    "s_2^2 = (n_2-1)^{-1} \\sum_i (y_{2i} - \\bar y_2)^2.\n",
    "$$\n",
    "\n",
    "Compute **pooled variance** estimator:\n",
    "\n",
    "$$\n",
    "s^2 =\n",
    "\\frac{(n_1-1) s_1^2 + (n_2 - 1) s_2^2}{n_1 + n_2 - 2},\n",
    "$$\n",
    "\n",
    "and then the t-statistic\n",
    "$$\n",
    "T = \\frac{\\bar y_1 - \\bar y_2}{\\sqrt{(1/n_1 + 1/n_2) s^2}}.\n",
    "$$\n"
   ]
  },
  {
   "cell_type": "markdown",
   "id": "5ca78ecf-3e84-4fd8-94b0-543d11e37fb6",
   "metadata": {},
   "source": [
    "### One-sided alternative: \n",
    "  \n",
    "  \n",
    "* The hypotheses are $ H_0: \\mu_1 = \\mu_2; \\mbox{ vs } H_1: \\mu_1 > \\mu_2$.\n",
    "\n",
    "\n",
    "* The best practice is to ensure that $T$ is **lined up** with $H_1$.\n",
    "\n",
    "\n",
    "* In this example, $H_1$ states $\\mu_1 - \\mu_2 > 0$. \n",
    "\n",
    "So we calculate\n",
    "\n",
    "$$T =\\frac{ (\\hat{\\mu}_1 - \\hat{\\mu}_2)} {\\sqrt{ (1/n_1+1/n_2) s^2}}$$\n",
    "\n",
    "where $\\hat{\\mu}_1 = \\bar{y}_1$ and $\\hat{\\mu}_2 = \\bar{y}_2$.\n",
    "    \n",
    "    \n",
    "* Reject $H_0$ in favour of $H_1$ when $P( T > T_{obs})$ is below the nominal level (the usual choice is 5\\%)."
   ]
  },
  {
   "cell_type": "markdown",
   "id": "c8462675-f0d3-4a8b-94a7-3eccc5b249dc",
   "metadata": {},
   "source": [
    "### Statistical reasoning\n",
    "\n",
    "In statistics, we examine how much built-in variation is in $\\bar y_1 - \\bar y_2$.\n",
    "\n",
    "\n",
    "Under the model assumption, we have\n",
    "\n",
    "$$ Var(\\bar y_1 - \\bar y_2) = (1/n_1 + 1/n_2) \\sigma^2.$$\n",
    "\n",
    "\n",
    "In applications, we are not given the value of $\\sigma^2$.\n",
    "However, the pooled variance estimator $s^2$ is a good estimate.\n",
    "\n"
   ]
  },
  {
   "cell_type": "markdown",
   "id": "d5c0c4cd-ee69-42a6-a993-fbff2cf2d03b",
   "metadata": {},
   "source": [
    "# Equal Variance\n",
    "\n",
    "Because of this, we get a good metric:\n",
    "$$\n",
    "T = \\frac{\\bar y_1 - \\bar y_2}{\\sqrt{(1/n_1 + 1/n_2) s^2}}.\n",
    "$$\n",
    "\n",
    "\n",
    "Statistic theory reveals that its distribution when $H_0$ is true is\n",
    "t-distribution with degrees of freedom **df** $n_1 + n_2 - 2$.\n"
   ]
  },
  {
   "cell_type": "markdown",
   "id": "c88252da-2fc6-4716-8c92-18db752e523a",
   "metadata": {},
   "source": [
    "## Un equal variance"
   ]
  },
  {
   "cell_type": "markdown",
   "id": "dbd5ee31-35b2-468c-936e-b0e9db601ce0",
   "metadata": {},
   "source": [
    "### Effect of unequal variance\n",
    "\n",
    "* One remedy to t-test in this case is to change the t-statistic itself to\n",
    "\n",
    "$$\n",
    "T = \\frac{(\\bar y_1 - \\bar y_2)}{\\sqrt{(s^2_1/n_1 + s^2_2/n_2)}}\n",
    "$$\n",
    "\n",
    "so that the denominator matches the variance of the numerator even if $\\sigma_1^2 \\neq \\sigma_2^2$.\n",
    "\n",
    "\n",
    "* Yet even after this remedy, $T$ still does not have t-distribution.\n",
    "\n",
    "\n",
    "* The distribution of $T$ depends on the size of $\\sigma_2/\\sigma_1$ which is unknown in this situation."
   ]
  },
  {
   "cell_type": "markdown",
   "id": "6fb5939d-b118-4333-bfa6-e88b0faea8b5",
   "metadata": {},
   "source": [
    "### Welch's t-test remedy\n",
    "\n",
    "* Use the new definition of $T$.\n",
    "\n",
    "\n",
    "* **PRETEND** $T$ has a t-distribution with $f$ degrees of freedom:\n",
    "\n",
    "$$\n",
    "\\frac{1}{f} \n",
    "= \\left ( \\frac{R}{1+R} \\right )^2 \\frac{1}{n_1 - 1} \n",
    "+ \n",
    "\\frac{1}{(n_2-1)(1+R)^2}\n",
    "$$\n",
    "\n",
    "where $R = (s_1^2/n_1)/(s_2^2/n_2)$."
   ]
  },
  {
   "cell_type": "markdown",
   "id": "ae97ad92-6fe3-4141-a24d-22e809cf1cb7",
   "metadata": {},
   "source": []
  },
  {
   "cell_type": "markdown",
   "id": "686ab72f-b4ff-4229-8e3c-b6078add798b",
   "metadata": {},
   "source": [
    "### Intuitive but easily justified estimates\n",
    "\n",
    "Let\n",
    "\n",
    "* $\\bar{y}_{i \\cdot} = (y_{i1} + y_{i2} + \\cdots + y_{i n_i})/n_i$;\n",
    "\n",
    "\n",
    "* $\\bar{y}_{\\cdot j} = (y_{1j} + y_{2j} + \\cdots + y_{kj})/k$;\n",
    "\n",
    "\n",
    "* $\\bar{y}_{\\cdot \\cdot} = \\sum_{i,j} y_{ij}/{N}$.\n",
    "\n",
    "\n",
    "\n",
    "The following estimates of parameters are generally used:\n",
    "\n",
    "\n",
    "* $\\hat \\eta = \\bar{y}_{..}; ~~~\\hat \\tau_i = \\bar{y}_{i \\cdot} - \\bar{y}_{..}$.\n",
    "\n",
    "\n",
    "Each observed value can be decomposed as\n",
    "\n",
    "$\n",
    "y_{ij} \n",
    " = \\bar{y}_{..} + (\\bar{y}_{i \\cdot} - \\bar{y}_{..}) + (y_{ij} - \\bar{y}_{i \\cdot})\n",
    " = \\hat \\eta + \\hat \\tau_i + r_{ij}.\n",
    "$\n",
    "\n"
   ]
  },
  {
   "cell_type": "markdown",
   "id": "b9b1f2ba-39a6-4ca5-93e8-614caab9c721",
   "metadata": {},
   "source": [
    "## The question this experiment aims to answer\n",
    "\n",
    "\n",
    "Do these treatments have different effects in terms of the brightness of the pulp sheets they produce?\n",
    "\n",
    "\n",
    "In statistical language: test the hypothesis that $H_0: \\tau_1 = \\tau_2 = \\cdots = \\tau_k = 0$.\n",
    "\n",
    "\n",
    "* If their sum is 0 and they are equal, then all of them must be zero.\n",
    "\n",
    "\n",
    "#### Whether they are all zero or not is best reflected in the size of\n",
    "\n",
    "SS$_{trt} = n_1\\hat \\tau_1^2 + n_2\\hat \\tau_2^2 + \\cdots + n_k\\hat\\tau_k^2 \n",
    "= \\sum_{i=1}^k n_i(\\bar y_{i\\cdot} - \\bar{y}_{\\cdot \\cdot})^2.$\n",
    "\n",
    "\n",
    "* We call this quantity the treatment sum of squares.\n"
   ]
  },
  {
   "cell_type": "markdown",
   "id": "b0350774-1634-4425-b292-34465c1138f7",
   "metadata": {},
   "source": [
    "## ANOVE for One-way layout\n",
    "\n",
    "\n",
    "\\begin{matrix}\n",
    "\\mbox{Source} & \\mbox{DF} & \\mbox{SS}  & \\mbox{MSS} & \\mbox{F} \\\\\n",
    "\\mbox{Trt} & k-1\n",
    "& \n",
    "\\sum_{i=1}^k n_i(\\bar y_{i \\cdot}-\\bar y_{\\cdot\\cdot})^2\n",
    "&\n",
    "\\mbox{SS}_{trt}/(k-1) & * \\\\\n",
    "\\mbox{Resid/Error} & N-k\n",
    "& \n",
    "\\sum_{i=1}^k \\sum_{j=1}^{n_i}(y_{i j} - \\bar y_{i \\cdot})^2\n",
    "&\n",
    "\\mbox{SS}_{err}/(N-k)& \\\\\n",
    "\\mbox{Total} & N-1 &\n",
    "\\sum_{i=1}^k \\sum_{j=1}^{n_i}(y_{i j} - \\bar y_{\\cdot \\cdot})^2\n",
    "\\end{matrix}\n",
    "\n",
    "\n",
    "\n",
    "The F-statistic is defined to be\n",
    "$F = \\mbox{MSS}_{trt}/\\mbox{MSS}_{err}$."
   ]
  },
  {
   "cell_type": "markdown",
   "id": "ce6d1a83-5434-463f-9b7c-ae39c0324420",
   "metadata": {},
   "source": [
    "# 3.1\n"
   ]
  },
  {
   "cell_type": "markdown",
   "id": "51a86207-8183-4aab-9a8a-722cc6851fcd",
   "metadata": {},
   "source": [
    "### Applying this idea for one-way layout\n",
    "\n",
    "### Binferroni\n",
    "\n",
    "* there are $k' = k(1-k)/2$ parameters of interest ($\\mu_i - \\mu_j$) \n",
    "    in one-way layout.\n",
    "\n",
    "\n",
    "* for two-sided simultaneous CIs, set $\\alpha' = \\alpha/k'$.\n",
    "\n",
    "\n",
    "* the t-statistic for this purpose \n",
    "\n",
    "$$\n",
    "\\frac{ (\\bar y_{j \\cdot} - \\bar y_{i \\cdot})-(\\mu_j - \\mu_i) }{\\sqrt{ (1/n_i + 1/n_j) \\hat \\sigma^2}}.\n",
    "$$\n",
    "\n",
    "\n",
    "* the two-sided simultaneous CIs for $\\mu_j - \\mu_i$ derived from it:\n",
    "\n",
    "$$\n",
    "(\\bar y_{j \\cdot} - \\bar y_{i \\cdot})\n",
    "\\pm t(1-\\alpha'/2, N-k) ~ \\hat \\sigma \\sqrt{1/n_i + 1/n_j}.\n",
    "$$\n",
    "\n",
    "\n",
    "* the error variance $\\hat \\sigma^2$ is estimated by MSS$_{err}$."
   ]
  },
  {
   "cell_type": "markdown",
   "id": "70260716-0cdb-450a-96c2-8da35e5e4b08",
   "metadata": {},
   "source": [
    "### Tukey's method is one of many possible remedies. \n",
    "\n",
    "\n",
    "* We confine ourselves in the context of one-way layout.\n",
    "\n",
    "\n",
    "* The difference in means are estimated by \n",
    "    $\\bar y_{i\\cdot}-\\bar y_{j \\cdot}$\n",
    "\n",
    "\n",
    "* The key quantity is given by\n",
    "\n",
    "$$ t_{ij} = \n",
    "\\frac{(\\bar y_{i\\cdot}-\\bar y_{j \\cdot}) - (\\mu_i - \\mu_j)}\n",
    "{\\sqrt{ (1/n_i + 1/n_j)s^2}}.\n",
    "$$\n",
    "\n",
    "\n",
    "* A key quantity for testing $\\mu_i - \\mu_j = 0$ for all $i, j$\n",
    "is \n",
    "\n",
    "$$\n",
    "t^* = \\sqrt{2} \\max \\{ |t_{ij}| \\}\n",
    "$$\n",
    "\n",
    "> with $\\mu_i - \\mu_j = 0$ when calculating $t_{ij}$.\n",
    "\n",
    "\n",
    "**Pay no attention to $sqrt{2}$ here, it is statistically irrelevant at this moment**"
   ]
  },
  {
   "cell_type": "markdown",
   "id": "3fdaec9e-1b4a-41f2-907a-ab688aec3616",
   "metadata": {},
   "source": [
    "* the two-sided simultaneous CIs for $\\mu_j - \\mu_i$ derived from it:\n",
    "\n",
    "$$\n",
    "(\\bar y_{j \\cdot} - \\bar y_{i \\cdot})\n",
    "\\pm \\frac {1}{\\sqrt{2}}turkey(1-\\alpha,k, N-k) ~ \\hat \\sigma \\sqrt{1/n_i + 1/n_j}.\n",
    "$$"
   ]
  },
  {
   "cell_type": "markdown",
   "id": "1d458e53-cd43-4d52-9c87-31e9524ecb7e",
   "metadata": {},
   "source": []
  },
  {
   "cell_type": "markdown",
   "id": "d9547690-812b-43e4-b729-209da8768726",
   "metadata": {},
   "source": []
  },
  {
   "cell_type": "markdown",
   "id": "c96e0082-f145-49b8-b44a-27358ad8c7a9",
   "metadata": {},
   "source": []
  },
  {
   "cell_type": "markdown",
   "id": "56d7818d-878c-4033-8831-598e338f2d85",
   "metadata": {},
   "source": []
  },
  {
   "cell_type": "markdown",
   "id": "b9d434c7-270b-402e-ba83-b55aa59c957b",
   "metadata": {},
   "source": []
  },
  {
   "cell_type": "markdown",
   "id": "3f45142f-3993-482b-b9f7-7c1ca00aa7b5",
   "metadata": {},
   "source": []
  },
  {
   "cell_type": "markdown",
   "id": "e1607d62-ec5a-45d7-a516-ad8374300d6b",
   "metadata": {},
   "source": []
  },
  {
   "cell_type": "markdown",
   "id": "5b8782b4-5a10-4ad6-9cfc-42f05c1bfe1a",
   "metadata": {},
   "source": []
  },
  {
   "cell_type": "markdown",
   "id": "596b8b6b-aa7a-493b-b6ca-ca19efb094b2",
   "metadata": {},
   "source": []
  },
  {
   "cell_type": "markdown",
   "id": "c20a2921-c8b2-4f02-b7b3-76b47a2530c8",
   "metadata": {},
   "source": []
  }
 ],
 "metadata": {
  "kernelspec": {
   "display_name": "R",
   "language": "R",
   "name": "ir"
  },
  "language_info": {
   "codemirror_mode": "r",
   "file_extension": ".r",
   "mimetype": "text/x-r-source",
   "name": "R",
   "pygments_lexer": "r",
   "version": "4.0.5"
  }
 },
 "nbformat": 4,
 "nbformat_minor": 5
}
