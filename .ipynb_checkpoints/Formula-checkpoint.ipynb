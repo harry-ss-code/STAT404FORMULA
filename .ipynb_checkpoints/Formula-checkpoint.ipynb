{
 "cells": [
  {
   "cell_type": "markdown",
   "id": "76b0580e-7ef9-479f-859d-06ad178b9471",
   "metadata": {},
   "source": [
    "# Ch 1 - Generals"
   ]
  },
  {
   "cell_type": "markdown",
   "id": "da40981f-5c28-4946-bb5f-b1118b9d70d4",
   "metadata": {},
   "source": [
    "### 3 main principles in DOE: randomization, replication, blocking"
   ]
  },
  {
   "cell_type": "markdown",
   "id": "ac8f6fa4-4973-4120-ab83-d4de593937de",
   "metadata": {},
   "source": [
    "Replication: helps separate treatment effect (expected response values) from experiment errors -> reduce influence of experimental error\n",
    "\n",
    "Randomization: provides protection against unknown factors - controls lurking variables in order to establish cause and effect relationship -> reduce influence of un-anticipated factors\n",
    "\n",
    "Blocking: comparing diff treatments in groups (units divided so units in each group are indistinguishable) -> balance out effect of factors not of interest\n"
   ]
  },
  {
   "cell_type": "markdown",
   "id": "b916f256-cd24-4e43-b882-31695029591f",
   "metadata": {},
   "source": [
    "# 2.1 Linear Regression"
   ]
  },
  {
   "cell_type": "markdown",
   "id": "5bc11f26-3ab1-465b-baa6-67e78d4ff189",
   "metadata": {},
   "source": [
    "* Bayes formula states $$P(A_i|B) = \\frac{P(B|A_i)P(A_i)}{P(B|A_1)P(A_1)+P(B|A_2)P(A_2)+P(B|A_3)P(A_3)}.$$"
   ]
  },
  {
   "cell_type": "markdown",
   "id": "74139ad4-4f85-41d3-ab6f-ff59903bdd9c",
   "metadata": {},
   "source": [
    "### Sample mean and variance\n",
    "\n",
    "\\begin{eqnarray*}\n",
    "\\bar y_n \n",
    "&=&\n",
    " (y_1 + y_2 + \\cdots + y_n)/n = n^{-1} \\sum_{i=1}^n y_i;\\\\\n",
    "s_n^2 \n",
    "&=&\n",
    " \\{ (y_1 - \\bar y)^2 + (y_2 - \\bar y)^2 + \\cdots + (y_n - \\bar y)^2 \\}/(n-1)\n",
    "= (n-1)^{-1}  \\sum_{i=1}^n (y_i - \\bar y)^2.\n",
    "\\end{eqnarray*}"
   ]
  },
  {
   "cell_type": "markdown",
   "id": "3eac784a-8040-4604-91a9-1e0228af301e",
   "metadata": {},
   "source": [
    "### Population mean and variance\n",
    "\n",
    "Suppose $\\mu = E(Y)$ and $\\sigma^2 = Var(Y)$.\n",
    "We have\n",
    "\\begin{eqnarray*}\n",
    "E(\\bar{y}_n) &=&\n",
    "n^{-1} \\sum_{i=1}^n E (y_i) = \\mu;\\\\\n",
    "Var(\\bar y_n) &=&\n",
    "n^{-2} \\sum_{i=1}^n Var(y_i) = \\sigma^2/n\n",
    "\\end{eqnarray*}\n"
   ]
  },
  {
   "cell_type": "markdown",
   "id": "caa501d1-2303-4cf2-88d1-1f3f5012d0d3",
   "metadata": {
    "tags": []
   },
   "source": [
    "### Sample variance\n",
    "\n",
    "We may find sample variance is also given by\n",
    "$$\n",
    "s^2 = \\mbox{average of } \\{ (y_i - y_j)^2/2\\}  \\mbox{ for } i \\neq j\n",
    "$$\n",
    "Trust me for the moment.\n",
    "\n",
    "It is seen that\n",
    "$$\n",
    "E\\{ (y_1 - y_2)^2\\} = Var(y_1) + Var(y_2) = 2 \\sigma^2.\n",
    "$$\n",
    "Hence,\n",
    "$$\n",
    "E (s^2) = \\{ \\mbox{average of } E \\{ (y_i - y_j)^2/2\\}  \\mbox{ for } i \\neq j \\} = \\sigma^2.\n",
    "$$\n",
    "\n",
    "Because of this, we say $s^2$ is an unbiased estimator of $\\sigma^2$."
   ]
  },
  {
   "cell_type": "markdown",
   "id": "b2de2e2e-85d4-4363-bd44-b286b27c9567",
   "metadata": {},
   "source": [
    "### Sample variance algebra\n",
    "\n",
    "In words: the sample variance $s^2$ \n",
    "is the average squared difference between observations.\n",
    "\n",
    "To prove this claim, we note\n",
    "\\begin{eqnarray*}\n",
    "\\sum_{i, j} (y_i - y_j)^2 \n",
    "&=&\n",
    "\\sum_{i, j} \\{  (y_i - \\bar y) - (y_j - \\bar y)\\}^2\\\\\n",
    "&=&\n",
    "n \\sum_{i} (y_i - \\bar y)^2 + n \\sum_{j} (y_j - \\bar y)^2 - 2 \\sum_{i,j}(y_i - \\bar y)(y_j - \\bar y).\n",
    "\\end{eqnarray*}\n",
    "\n",
    "Not too hardly,\n",
    "$$\n",
    " \\sum_{i,j}(y_i - \\bar y)(y_j - \\bar y) = 0.\n",
    "$$\n",
    "Hence,\n",
    "$$\n",
    "\\frac{1}{n(n-1)} \\sum_{i, j} (y_i - y_j)^2 \n",
    " =\n",
    "\\frac{1}{n-1}  \\sum_{i} (y_i - \\bar y)^2 + \\frac{1}{n-1}  \\sum_{j} (y_j - \\bar y)^2 \n",
    "=\n",
    "2 s^2.\n",
    "$$"
   ]
  },
  {
   "cell_type": "markdown",
   "id": "4fe957c3-10d1-48ad-9a3e-f23c7c6df511",
   "metadata": {},
   "source": [
    "### Sample variance algebra\n",
    "\n",
    "Also take note\n",
    "$$\n",
    "\\sum_i (y_i - \\bar y)^2\n",
    "=\n",
    "\\sum_i (y_i^2 - 2 y_i \\bar y + \\bar y^2)\n",
    "=\n",
    "\\sum_i (y_i^2 )  - 2 \\bar y \\sum_i y_i + n \\bar y^2\n",
    "=\n",
    "\\sum_i (y_i^2 )  - 2 n \\bar y^2 + n \\bar y^2 =\n",
    "\\sum_i y_i^2   - n \\bar y^2.\n",
    "$$\n",
    "\n",
    "We get\n",
    "$$\n",
    " \\sum_i (y_i - \\bar y)^2\n",
    "= \\sum_i y_i^2   - n \\bar y^2\n",
    "$$\n",
    "and\n",
    "$$\n",
    " \\sum_i y_i^2 \n",
    "=\\sum_i (y_i - \\bar y)^2\n",
    "+ n \\bar y^2.\n",
    "$$\n",
    " \n",
    "The sum of squares formulas will be used\n",
    "very often."
   ]
  },
  {
   "cell_type": "markdown",
   "id": "f4ba5029-f8cd-4d80-835d-0fcb50760e2e",
   "metadata": {},
   "source": [
    "## Point estimation\n",
    "\n",
    "#### It is our educated and data supported guess of what ${\\mathbf \\beta}$ value is.\n",
    "\n",
    "#### The only requirement for an estimator is: it is a function of data.\n",
    "\n",
    "\n",
    "One way of estimating ${\\mathbf \\beta}$ is to use the value $\\hat {\\mathbf \\beta}$ that minimizes\n",
    "$$\n",
    " ({\\bf y} - {\\bf X} {\\mathbf \\beta})^T ({\\bf y} - {\\bf X} {\\mathbf \\beta}) \n",
    " = \\sum_{i=1}^N (y_i - {\\bf x_i} {\\mathbf \\beta})^2.\n",
    "$$\n",
    "\n",
    "The optimization solution is given by\n",
    "$$\n",
    " \\hat {\\mathbf \\beta} = ( {\\bf X}^T  {\\bf X})^{-1}  {\\bf X}^T {\\bf y}.\n",
    " $$"
   ]
  },
  {
   "cell_type": "markdown",
   "id": "2fead527-16d5-48a9-a900-4807b4c7daca",
   "metadata": {},
   "source": [
    "### Some terminologies\n",
    "\n",
    "* We call $ {\\bf r} = {\\bf y} - {\\bf X} \\hat {\\mathbf \\beta}~$ **residuals**;\n",
    "\n",
    "\n",
    "* We call\n",
    "$\\hat {\\bf y} = {\\bf X} \\hat {\\mathbf \\beta}~$ **fitted values**;\n",
    "\n",
    "\n",
    "* We call $\\hat {\\mathbf \\beta}~$ the **least squares estimate**."
   ]
  },
  {
   "cell_type": "markdown",
   "id": "e710475e-4d3d-44ec-b598-4a02d1897429",
   "metadata": {},
   "source": [
    "## Confidence Intervals/Prediction Intervals\n",
    "\n",
    "Suppose the model is suitable.\n",
    "\n",
    "* Our best guess of the expected $y$ value at ${\\bf x}$ is ${\\bf x} \\hat{\\mathbf \\beta}$: the fitted value.\n",
    "\n",
    "\n",
    "* A 95% CI for $\\hat{y} = {\\bf x} \\hat{\\mathbf \\beta}$ is \n",
    "\n",
    "$$\n",
    "{\\bf x} \\hat{\\mathbf \\beta} \\pm \n",
    "t_{n-k-1, 0.975} \\sqrt{var({\\bf x} \\hat{\\mathbf \\beta})}.\n",
    "$$\n",
    "\n",
    "where $t_{n-k-1, 0.975}$ the 97.5% \n",
    "quantile of the t-distribution with $n-k-1$ degrees of freedom and\n",
    "\n",
    "$$\n",
    "var({\\bf x} \\hat{\\mathbf \\beta}) \n",
    "= {\\bf x}({\\bf X}^T{\\bf X})^{-1}{\\bf x}^T \\hat{\\sigma}^2.\n",
    "$$\n"
   ]
  },
  {
   "cell_type": "markdown",
   "id": "09cbfcd5-7f4d-42fc-b47e-7a58c405b0e3",
   "metadata": {},
   "source": [
    "$$\n",
    "var(\\hat{\\mathbf \\beta}{\\bf_j} ) \n",
    "= ({\\bf X}^T{\\bf X})_{jj}^{-1} \\hat{\\sigma}^2.\n",
    "$$"
   ]
  },
  {
   "cell_type": "markdown",
   "id": "88ae759e-f8ec-4c87-aad3-4bf05ab3c724",
   "metadata": {},
   "source": [
    "$$\n",
    "\\hat{\\bf y} = x \\hat{\\beta}\n",
    "$$"
   ]
  },
  {
   "cell_type": "markdown",
   "id": "1dbd5b4b-27f9-4402-8ecc-108634183ea4",
   "metadata": {},
   "source": [
    "* 95\\% prediction interval for $y|x$:\n",
    "$$\n",
    "\\hat y \\pm t_{N-k-1,0.975}\\sqrt{(1+x(\\mathbf{X}^T\\mathbf{X})^{-1}x^T)\\hat\\sigma^2} = \\hat y \\pm t_{N-k-1,0.975}\\sqrt{(1 + var(\\hat{y}))}\n",
    "$$\n",
    "Here we have an extra $1$ in $\\sqrt{\\cdot}$ since future value observation are supposed to be $x\\hat \\beta + \\epsilon$."
   ]
  },
  {
   "cell_type": "markdown",
   "id": "51776a55-4ee0-431f-8c20-bdc55a683718",
   "metadata": {},
   "source": [
    "### R code for manually calculating CI and PI given a predicted value x = new.x, dataframe = data"
   ]
  },
  {
   "cell_type": "code",
   "execution_count": null,
   "id": "655d7bd9-b866-480f-88d6-3002cf779df9",
   "metadata": {},
   "outputs": [],
   "source": [
    "# Structure the data that's easy to use\n",
    "X = cbind(1, data$xcols) # our design matrix X (add a intercept column, make sure y is not included)\n",
    "#print(X)\n",
    "y = data$ycol\n",
    "\n",
    "# Compute LSE manually \n",
    "invXTX = solve(t(X) %*% X)\n",
    "XTy = t(X) %*% y\n",
    "beta = invXTX %*% XTy\n",
    "# round to 3 decimals and check\n",
    "print(round(beta, 3))\n",
    "\n",
    "# Predict response for new observation\n",
    "new.X = (some number)\n",
    "(y_pred = beta[1] + beta[2]*new.X )\n",
    "\n",
    "# Verify y_pred using R function\n",
    "predict(fit, newdata=data.frame(temp=new.X))\n",
    "\n",
    "# Compute confidence interval\n",
    "new.Xvec = c(1, new.X)\n",
    "N = nrow(data)\n",
    "k = ncol(X) - 1\n",
    "# compute sd estimate\n",
    "sigma2 = t(y-X%*%beta)%*%(y-X%*%beta) / (N-k-1) \n",
    "se.conf = sqrt(sigma2*(t(new.Xvec)%*%invXTX%*%new.Xvec))\n",
    "# compute t quantile\n",
    "cv = qt(0.025, N-k-1, lower.tail=FALSE)\n",
    "# construct CI\n",
    "c(pred-cv*se.conf, pred+cv*se.conf)\n",
    "\n",
    "# Verify CI using R function\n",
    "predict(fit, newdata=data.frame(temp=new.X),\n",
    "        interval=\"confidence\")\n",
    "\n",
    "# Compute prediction interval\n",
    "se.pred = sqrt(sigma2*(1+t(new.Xvec)%*%invXTX%*%new.Xvec))\n",
    "c(pred-cv*se.pred, pred+cv*se.pred)\n",
    "\n",
    "# Verify PI using R function\n",
    "predict(fit, newdata=data.frame(temp=new.X),\n",
    "        interval=\"prediction\")"
   ]
  },
  {
   "cell_type": "markdown",
   "id": "a54d0656-1aa9-4cb0-9aad-5ac0b953d00c",
   "metadata": {},
   "source": [
    "Let us assume the knowledge that the least square estimator (may leave it as an assignment) is given by\n",
    "$$\n",
    " \\hat {\\mathbf \\beta} = ( {\\bf X}^T  {\\bf X})^{-1}  {\\bf X}^T {\\bf y}.\n",
    "$$\n",
    "\n",
    "\n",
    "Given this knowledge, we find\n",
    "\\begin{align*}\n",
    "{\\bf X}^T ( {\\bf y} - {\\bf X} \\hat {\\mathbf \\beta} )\n",
    "& = {\\bf X}^T {\\bf y} - {\\bf X}^T {\\bf X} ( {\\bf X}^T  {\\bf X})^{-1}  {\\bf X}^T {\\bf y}\\\\\n",
    "& = {\\bf X}^T {\\bf y} - {\\bf X}^T {\\bf y}\\\\\n",
    "&= 0.\n",
    "\\end{align*}\n",
    "\n",
    "\n",
    "Since ${\\bf r} = {\\bf y} - {\\bf X} \\hat {\\mathbf \\beta}$, the above conclusion can be written as ${\\bf X}^T {\\bf r} = 0$.\n",
    "\n",
    "\n",
    "* Nothing in the residual is still related to ${\\bf X}$."
   ]
  },
  {
   "cell_type": "markdown",
   "id": "6bcf4e37-9e11-48f8-916e-e957164251f0",
   "metadata": {},
   "source": [
    "Because from the above equation we know that ${\\bf y} - {\\bf X} \\hat {\\mathbf \\beta} = 0$ therefore we can also write that equation as $\\bar{\\bf y} - \\bar{\\bf X} \\hat {\\mathbf \\beta}=0$ because the first column of the matrix X are all 1."
   ]
  },
  {
   "cell_type": "markdown",
   "id": "0a5a5815-c6ce-4a74-be33-46410717a621",
   "metadata": {},
   "source": [
    "We may write\n",
    "\\begin{align*}\n",
    "{\\bf y} - \\bar{\\bf y}\n",
    "& = ({\\bf y} - \\bf X \\hat {\\mathbf \\beta})\n",
    "   + (\\bf X \\hat {\\mathbf \\beta} - \\bar{\\bf y})\\\\\n",
    "& = ({\\bf y} - \\bf X \\hat {\\mathbf \\beta})\n",
    "+ (\\bf X - \\bar{\\bf X}) \\hat {\\mathbf \\beta}.\n",
    "\\end{align*}\n",
    "\n",
    "\n",
    "With this decomposition, we find\n",
    "\\begin{align*}\n",
    "({\\bf y} - \\bar{\\bf y})^T ({\\bf y} - \\bar{\\bf y})\n",
    "& = \n",
    "({\\bf y} - \\bf X \\hat {\\mathbf \\beta})^T({\\bf y} - \\bf X \\hat {\\mathbf \\beta})\n",
    " + \n",
    "\\hat {\\mathbf \\beta}^T (\\bf X - \\bar{\\bf X})^T (\\bf X - \\bar{\\bf X}) \\hat {\\mathbf \\beta}\\\\\n",
    "& = \n",
    "({\\bf y} - \\hat{\\bf y})^T({\\bf y} - \\hat{\\bf y})\n",
    " + \n",
    "(\\hat{\\bf y} - \\bar{\\bf y} )^T(\\hat{\\bf y} - \\bar{\\bf y} )\n",
    "\\end{align*}"
   ]
  },
  {
   "cell_type": "markdown",
   "id": "e1d39156-7806-4eb6-9d79-0188c83164f4",
   "metadata": {},
   "source": [
    "Watch closely on the decomposition:\n",
    "\\begin{align*}\n",
    "({\\bf y} - \\bar{\\bf y})^T ({\\bf y} - \\bar{\\bf y})\n",
    "& =  \n",
    "\\hat {\\mathbf \\beta}^T (\\bf X - \\bar{\\bf X})^T (\\bf X - \\bar{\\bf X}) \\hat {\\mathbf \\beta}\n",
    "+\n",
    "({\\bf y} - \\bf X \\hat {\\mathbf \\beta})^T({\\bf y} - \\bf X \\hat {\\mathbf \\beta})\n",
    "\\end{align*}\n",
    "or it is\n",
    "\\begin{align*}\n",
    "({\\bf y} - \\bar{\\bf y})^T ({\\bf y} - \\bar{\\bf y})\n",
    "& = (\\hat {\\bf y} - \\bar {\\bf y})^T (\\hat {\\bf y} - \\bar {\\bf y})\n",
    "+ {\\bf r}^T {\\bf r}\n",
    "\\end{align*}\n",
    "\n",
    "\n",
    "* the LHS is the total variation in ${\\bf y}$.\n",
    "\n",
    "\n",
    "* the first term the RHS the variation in $\\hat {\\bf y}$.\n",
    "\n",
    "\n",
    "* the second term is the variation in residual ${\\bf r}$.\n",
    "\n",
    "\n",
    "This decomposition results in the analysis of variance table (ANOVA):"
   ]
  },
  {
   "cell_type": "markdown",
   "id": "68fd22c2-0ac4-4d72-9a4d-8ce5dc6b0984",
   "metadata": {},
   "source": [
    "\\begin{matrix}\n",
    "\\mbox{Source} & \\mbox{Df} & \\mbox{SS} & \\mbox{MSS} & \\mbox{F} \\\\\n",
    "\\mbox{Regr} & k & \n",
    "(\\hat {\\bf y} - \\bar {\\bf y})^T (\\hat {\\bf y} - \\bar {\\bf y}) \n",
    "&  (\\hat {\\bf y} - \\bar {\\bf y})^T (\\hat {\\bf y} - \\bar {\\bf y}) /k \\\\\n",
    "\\mbox{Residual/error} & N-k-1 & \n",
    "({\\bf y}-{\\bf X}\\hat{\\bf \\beta})^T({\\bf y}-{\\bf X}\\hat{\\bf \\beta}) &\n",
    "({\\bf y}-{\\bf X}\\hat{\\bf \\beta})^T({\\bf y}-{\\bf X}\\hat{\\bf \\beta})/(N-k-1) & \\\\\n",
    "Total & N-1 & {\\bf y}^T{\\bf y}- \\bar{\\bf y}^T\\bar{\\bf y}\n",
    "\\end{matrix}\n",
    "\n",
    "\n",
    "The top-right entry of F should be\n",
    "$$\n",
    "F = \n",
    "\\frac{(\\hat {\\bf y} - \\bar {\\bf y})^T (\\hat {\\bf y} - \\bar {\\bf y}) /k }\n",
    "{({\\bf y}-{\\bf X}\\hat{\\bf \\beta})^T({\\bf y}-{\\bf X}\\hat{\\bf \\beta})/(N-k-1)}\n",
    "=\\dfrac{MSS_{regr}}{MSS_{error}}.\n",
    "$$"
   ]
  },
  {
   "cell_type": "markdown",
   "id": "ecd081a2-e449-4ebf-bc81-d4c64fce6440",
   "metadata": {},
   "source": [
    "$$ \n",
    " T = \\frac{\\hat{\\beta_j}}{se(\\hat{\\beta_j})} = \\frac{\\hat{\\beta_j}}{\\sqrt{\\hat{\\sigma}^2(X^TX)_{jj}^{-1}}}\n",
    "$$\n",
    "\n",
    "\n",
    "$$\n",
    " {se(\\hat{\\beta_j})} ={\\sqrt{\\hat{\\sigma}^2(X^TX)_{jj}^{-1}}}\n",
    "$$\n",
    "\n",
    "\n",
    "$$\n",
    "\\hat{\\sigma}^2 = MSS error\n",
    "$$"
   ]
  },
  {
   "cell_type": "markdown",
   "id": "0f87618f-091b-4633-a012-a19755aecde7",
   "metadata": {},
   "source": [
    "How to know whether it is a good fitting?\n",
    "\n",
    "$$\n",
    "R^2 \n",
    "= \\frac{ \n",
    "(\\hat{\\bf y}-\\bar{\\bf y})^T(\\hat{\\bf y}-\\bar{\\bf y})}\n",
    "{({\\bf y} - \\bar {\\bf y})^T ({\\bf y} - \\bar {\\bf y}) }.\n",
    "$$\n",
    "\n",
    "\n",
    "if $R^2$ big then it is a  good fit\n"
   ]
  },
  {
   "cell_type": "markdown",
   "id": "c98dec50-1f47-4ac7-b126-f325f4d07b30",
   "metadata": {},
   "source": [
    "### Variance of the experiment error \n",
    "\n",
    "We use the residual mean square to estimate $\\sigma^2$:\n",
    "$$\n",
    "\\hat \\sigma^2 \n",
    "= \n",
    "\\frac{ \n",
    "{\\bf r}^T {\\bf r}}{N-k-1}\n",
    "=\n",
    "\\frac{\n",
    "({\\bf y}-\\hat{\\bf y})^T({\\bf y}-\\hat{\\bf y})}{(N-k-1)}.\n",
    "$$\n",
    "\n",
    "\n",
    "* If $\\hat {\\bf \\beta} = {\\bf \\beta}$, \n",
    "we would have ${\\bf r} = {\\bf \\epsilon}$. \n",
    "* The estimator is explained by $var(\\epsilon_i) = \\sigma^2$ \n",
    "according to the model assumption."
   ]
  },
  {
   "cell_type": "markdown",
   "id": "b98ec999-7ca5-4473-931c-ff5139a55370",
   "metadata": {},
   "source": []
  },
  {
   "cell_type": "markdown",
   "id": "cbcd2b65-8974-4d65-ba9a-d9e05ea9d17a",
   "metadata": {
    "tags": []
   },
   "source": [
    "# 2.2 Two Sample T-Test\n",
    "### Two-sided alternative (we want to know if there is a difference in the compared groups):\n",
    "Consider the problem of testing for two-sided alternative\n",
    "$$\n",
    "H_0: \\mu_1 = \\mu_2;  \\mbox{ vs } H_a: \\mu_1 \\neq \\mu_2.\n",
    "$$\n",
    "\n",
    "\n",
    "Let us do it under the assumptions that two samples\n",
    "are independent, each sample is made of iid observations\n",
    "such that\n",
    "$Y_{ij} \\sim N( \\mu_i; \\sigma^2)$. -> note no subscript on variance, every observation from set 1 and 2 have equal variance (assumption)\n",
    "\n",
    "Question we want to answer: do they have different means?\n",
    "\n",
    "\n",
    "* Elements in the assumption: (1) independence, (2) normality, and (3) equal variance.\n",
    "\n",
    "\n",
    "### Standard data analysis\n",
    "\n",
    "Compute the sample means and variances\n",
    "\n",
    "$$\n",
    "\\bar y_1 = n_1^{-1} \\sum_{i=1}^{n_1} y_{1i}; ~~~\n",
    "\\bar y_2 = n_2^{-1} \\sum_{i=1}^{n_2} y_{2i}.\n",
    "$$\n",
    "and\n",
    "\n",
    "$$\n",
    "s_1^2 = (n_1-1)^{-1} \\sum_i (y_{1i} - \\bar y_1)^2; ~~\n",
    "s_2^2 = (n_2-1)^{-1} \\sum_i (y_{2i} - \\bar y_2)^2.\n",
    "$$\n",
    "\n",
    "Compute **pooled variance** estimator (note that $s_1^2$ and $s_2^2$ are the variances of sample 1 and 2), ONLY FOR EQUAL VARIANCE ASSUMPTION:\n",
    "\n",
    "$$\n",
    "s^2 =\n",
    "\\frac{(n_1-1) s_1^2 + (n_2 - 1) s_2^2}{n_1 + n_2 - 2},\n",
    "$$\n",
    "\n",
    "and then the t-statistic\n",
    "$$\n",
    "T = \\frac{\\bar y_1 - \\bar y_2}{\\sqrt{(1/n_1 + 1/n_2) s^2}}.\n",
    "$$\n",
    "\n",
    "### How does df affect T-distribution\n",
    "\n",
    "As sample size increases (df -> $\\infty$), it gets closer to normal distribution.\n",
    "\n",
    "Larger df means slimmer density since variance gets smaller."
   ]
  },
  {
   "cell_type": "markdown",
   "id": "193258ee-c70c-4ef9-9ca0-f4e1738b2f6a",
   "metadata": {},
   "source": [
    "### R-code for calculating p-value for two-sided hypothesis test (equal variance, adjust for unequal variance):"
   ]
  },
  {
   "cell_type": "code",
   "execution_count": null,
   "id": "60022d96-8daa-48b8-9b7f-8492a2b53f89",
   "metadata": {},
   "outputs": [],
   "source": [
    "ssPool = ((n1 - 1)*var(yy) + (n2 - 1)*var(xx))/ (n1 + n2 - 2)\n",
    "\n",
    "T_obs = (mean(xx) - mean(yy))/((1/n1 + 1/n2)*ssPool)^.5\n",
    "\n",
    "pValue = 2*(1 - pt(abs(T_obs), df = n1 + n2 - 2))\n",
    "    ## two sided: key words: more extreme"
   ]
  },
  {
   "cell_type": "markdown",
   "id": "5ca78ecf-3e84-4fd8-94b0-543d11e37fb6",
   "metadata": {},
   "source": [
    "\n",
    "\n",
    "### One-sided alternative (we want to know if there is a difference between 2 groups, and ALSO if it is positive or negative (direction)): \n",
    "  \n",
    "  \n",
    "* The hypotheses are $ H_0: \\mu_1 = \\mu_2; \\mbox{ vs } H_1: \\mu_1 > \\mu_2$.\n",
    "\n",
    "\n",
    "* The best practice is to ensure that $T$ is **lined up** with $H_1$.\n",
    "\n",
    "\n",
    "* In this example, $H_1$ states $\\mu_1 - \\mu_2 > 0$. \n",
    "\n",
    "So we calculate\n",
    "\n",
    "$$T =\\frac{ (\\hat{\\mu}_1 - \\hat{\\mu}_2)} {\\sqrt{ (1/n_1+1/n_2) s^2}}$$\n",
    "\n",
    "where $\\hat{\\mu}_1 = \\bar{y}_1$ and $\\hat{\\mu}_2 = \\bar{y}_2$.\n",
    "    \n",
    "    \n",
    "* Reject $H_0$ in favour of $H_1$ when $P( T > T_{obs})$ is below the nominal level (the usual choice is 5\\%)."
   ]
  },
  {
   "cell_type": "markdown",
   "id": "ae07df83-e093-4d95-95b2-3ac0fe73d6b4",
   "metadata": {},
   "source": [
    "### R-code for calculating p-value for one-sided hypothesis test (equal variance, adjust for unequal variance):"
   ]
  },
  {
   "cell_type": "code",
   "execution_count": null,
   "id": "bb7ded16-a9cf-479c-ba01-dc21763c746f",
   "metadata": {},
   "outputs": [],
   "source": [
    "ssPool = ((n1 - 1)*var(yy) + (n2 - 1)*var(xx))/(n1 + n2 - 2)\n",
    "\n",
    "T_obs = (mean(xx) - mean(yy))/sqrt((1/n1+1/n2)*ssPool)\n",
    "\n",
    "pValue = pt(T_obs, df = n1 + n2 - 2, lower.tail = F)  \n",
    "      ## upper side is calculated\n",
    "\n",
    "###check your work (remove alternative parameter for two-sided test)\n",
    "## R programming language can do it in one strike.\n",
    "\n",
    "t.test(xx, yy, alternative = \"greater\", var.equal = T)\n",
    "\n",
    "t.test(xx, yy, alternative = \"greater\", var.equal = F)\n",
    "## analysis under unequal variance assumption gives very similar p-value."
   ]
  },
  {
   "cell_type": "markdown",
   "id": "c8462675-f0d3-4a8b-94a7-3eccc5b249dc",
   "metadata": {},
   "source": [
    "### Statistical reasoning\n",
    "\n",
    "In statistics, we examine how much built-in variation is in $\\bar y_1 - \\bar y_2$.\n",
    "\n",
    "\n",
    "Under the model assumption, we have\n",
    "\n",
    "$$ Var(\\bar y_1 - \\bar y_2) = (1/n_1 + 1/n_2) \\sigma^2.$$\n",
    "\n",
    "\n",
    "In applications, we are not given the value of $\\sigma^2$.\n",
    "However, the pooled variance estimator $s^2$ is a good estimate.\n",
    "\n"
   ]
  },
  {
   "cell_type": "markdown",
   "id": "f29c4b02-b6a6-4d43-b301-548c7f5777af",
   "metadata": {},
   "source": [
    "### Note: t test statistic is constructed by standardizing the difference in means under the null, i.e., dividing by the standard deviation. A smaller variance will lead to a larger test statistic value.\n",
    "\n",
    "The underlying distribution of the test statistic doesn't change with the options given in the question and so the smaller variance strictly increases the power."
   ]
  },
  {
   "cell_type": "markdown",
   "id": "d5c0c4cd-ee69-42a6-a993-fbff2cf2d03b",
   "metadata": {},
   "source": [
    "## Equal Variance\n",
    "\n",
    "Because of this, we get a good metric:\n",
    "$$\n",
    "T = \\frac{\\bar y_1 - \\bar y_2}{\\sqrt{(1/n_1 + 1/n_2) s^2}}.\n",
    "$$\n",
    "\n",
    "\n",
    "Statistic theory reveals that its distribution when $H_0$ is true is\n",
    "t-distribution with degrees of freedom **df** $n_1 + n_2 - 2$.\n"
   ]
  },
  {
   "cell_type": "markdown",
   "id": "c88252da-2fc6-4716-8c92-18db752e523a",
   "metadata": {},
   "source": [
    "## Unequal variance"
   ]
  },
  {
   "cell_type": "markdown",
   "id": "dbd5ee31-35b2-468c-936e-b0e9db601ce0",
   "metadata": {},
   "source": [
    "### Effect of unequal variance (cannot use pooled variance as it does not make sense)\n",
    "\n",
    "* One remedy to t-test in this case is to change the t-statistic itself to\n",
    "\n",
    "$$\n",
    "T = \\frac{(\\bar y_1 - \\bar y_2)}{\\sqrt{(s^2_1/n_1 + s^2_2/n_2)}}\n",
    "$$\n",
    "\n",
    "so that the denominator matches the variance of the numerator even if $\\sigma_1^2 \\neq \\sigma_2^2$.\n",
    "\n",
    "\n",
    "* Yet even after this remedy, $T$ still does not have t-distribution.\n",
    "\n",
    "\n",
    "* The distribution of $T$ depends on the size of $\\sigma_2/\\sigma_1$ which is unknown in this situation."
   ]
  },
  {
   "cell_type": "markdown",
   "id": "6fb5939d-b118-4333-bfa6-e88b0faea8b5",
   "metadata": {},
   "source": [
    "### Welch's t-test remedy (how to calculate df for unequal variance only)\n",
    "\n",
    "* Use the new definition of $T$.\n",
    "\n",
    "\n",
    "* **PRETEND** $T$ has a t-distribution with $f$ degrees of freedom:\n",
    "\n",
    "$$\n",
    "\\frac{1}{f} \n",
    "= \\left ( \\frac{R}{1+R} \\right )^2 \\frac{1}{n_1 - 1} \n",
    "+ \n",
    "\\frac{1}{(n_2-1)(1+R)^2}\n",
    "$$\n",
    "\n",
    "where $R = (s_1^2/n_1)/(s_2^2/n_2)$."
   ]
  },
  {
   "cell_type": "markdown",
   "id": "ae97ad92-6fe3-4141-a24d-22e809cf1cb7",
   "metadata": {},
   "source": [
    "### R code for calculating p value for UNEQUAL VARIANCE assumption (one-sided hypothesis test, using Welch's t-test)"
   ]
  },
  {
   "cell_type": "code",
   "execution_count": null,
   "id": "4df85b8d-ff59-4fbe-ad2d-f78856b2d89d",
   "metadata": {},
   "outputs": [],
   "source": [
    "#Calculate Welch's t-stat\n",
    "T_obs = (mean(xx) - mean(yy))/sqrt(var(y1)/n1+var(y2)/n2)\n",
    "\n",
    "#calculate df using Welch's eq:\n",
    "R <- (var(y1)/n1)/(var(y2)/n2)\n",
    "df_uneq <- 1/(((R/(1+R))^2 * (1/(n1-1)) + 1/((n2 - 1)*(1+R)^2)))\n",
    "\n",
    "p2 <- 2*pt(abs(T_obs), df_uneq, lower.tail = FALSE)\n",
    "\n",
    "#check p2\n",
    "test.res2 = t.test(y1, y2)\n",
    "test.res2$p.value\n",
    "#reject null hypothesis if p2 < alpha"
   ]
  },
  {
   "cell_type": "markdown",
   "id": "d1a3ba8e-dd38-44e4-98f6-b7b2257b181c",
   "metadata": {},
   "source": [
    "### The effect of increasing sample size (repetition)\n",
    "\n",
    "* Larger $m, n$ leads to larger observed $|T|$, $|T_{obs}|$, if $\\mu_1 \\neq \\mu_2$.\n",
    "\n",
    "\n",
    "* Larger $|T_{obs}|$ leads to smaller p-value and hence increased power of detecting the fact that $\\mu_1 \\neq \\mu_2$.\n",
    "\n",
    "\n",
    "* If $\\mu_1 = \\mu_2$, the size of $T$ is unaffected by $n_1, n_2$. Hence, type I error remains under control."
   ]
  },
  {
   "cell_type": "markdown",
   "id": "cc59bf4c-5dc3-43fb-abea-3fe0c7c6a3e1",
   "metadata": {},
   "source": [
    "### F-test in the two-sample problem (check whether $\\sigma_1 = \\sigma_2$ is a reasonble assumption)\n",
    "\n",
    "* Obtain $F_{obs} = s_1^2/s_2^2$. \n",
    "\n",
    "* Both its value close to 0 or extremely large is suggestive to the violation of $H_0: \\sigma_1 = \\sigma_2$."
   ]
  },
  {
   "cell_type": "markdown",
   "id": "1b5f7b73-890e-4b77-b2d1-4e55b0c554ea",
   "metadata": {},
   "source": [
    "# 2.3 Randomization Test, 1-way ANOVA"
   ]
  },
  {
   "cell_type": "markdown",
   "id": "ba565fd8-2704-4a77-bb95-07725f91f453",
   "metadata": {},
   "source": [
    "### Our p-value for two-sided alternative, randomization test\n",
    "\n",
    "We use randomization test to avoid the normality assumption (helps with it) and prevent the influence of lurk variables.\n",
    "\n",
    "* Let $d_{obs} = \\bar y_1 - \\bar y_2$: the observed difference in two sample means. (We used $d^*$ in the last slide).\n",
    "\n",
    "* Let $d_i$ be the value of $\\bar y_1 - \\bar y_2$ based on permuted observations, $i=1, 2, \\ldots, {n_1+n_2 \\choose n_1}$.\n",
    "\n",
    "* Let $c_1= n\\{|d_i| > |d_{obs}|\\}$, and $c_2 =n \\{|d_i| = |d_{obs}|\\}$.\n",
    "\n",
    "We define the p-value as\n",
    "*  pvalue $= (c_1 + 0.5c_2)/{n_1+n_2 \\choose n_1} $.\n",
    "\n",
    "We reject $H_0$ if the p-value is smaller than 0.05 (or another pre-agreed level)."
   ]
  },
  {
   "cell_type": "markdown",
   "id": "34132d2a-6f45-492e-9985-a7c501300157",
   "metadata": {},
   "source": [
    "### Code for performing randomization test"
   ]
  },
  {
   "cell_type": "code",
   "execution_count": null,
   "id": "0b1942f1-fda9-4b54-8f9e-f7fa57cb075c",
   "metadata": {},
   "outputs": [],
   "source": [
    "total = choose(n1+n2, n1)\n",
    "mm = abs(mean(yy) - mean(xx))\n",
    "zz = c(xx, yy)\n",
    "zbar = mean(zz)\n",
    "dd = combn(zz, n2, FUN=mean)\n",
    "dd = abs(dd + (n2*dd - (n1+n2)*zbar)/10)\n",
    "pp = (sum(dd > mm) + 0.5*sum(dd== mm)) / total   # p-value"
   ]
  },
  {
   "cell_type": "markdown",
   "id": "8be55652-bc7e-4e1a-b6ac-d7d614b1d619",
   "metadata": {
    "tags": []
   },
   "source": [
    "### Single Factor with multiple levels\n",
    "\n",
    "The T-test is mostly used to compare the effect of two treatments. We now consider the situation where more than two treatments derived from a single factor are being investigated.\n",
    "\n",
    "To be called a **single factor** experiment, these treatments should intrinsically be connected.\n",
    "\n",
    "For example, fertilizers of various kinds or mixtures; the temperature at different levels, the medicine of several kinds, or a medicine at various dosages.\n",
    "\n",
    "Linear model proposed:\n",
    "\n",
    "$$\n",
    "y_{ij} = \\eta + \\tau_i + \\epsilon_{ij}\n",
    "$$\n",
    "$\\eta$ is the overall mean, $\\tau_i$ is the mean response from the $i$th treatment after subtracting the overall mean. The error term $\\epsilon_{ij}$ is what cannot be explained by **the treatment effect** $\\tau_i$.\n",
    "\n",
    "$$\n",
    "\\epsilon_{ij} \\sim N(0, \\sigma^2)\n",
    "$$\n",
    "and they are independent of each other\n",
    "\n",
    "condition:\n",
    "1. simple random ly select\n",
    "2. individual observation idependent\n",
    "3. errorij~N(0,sigma^2)"
   ]
  },
  {
   "cell_type": "markdown",
   "id": "686ab72f-b4ff-4229-8e3c-b6078add798b",
   "metadata": {},
   "source": [
    "### Intuitive but easily justified estimates\n",
    "\n",
    "Let\n",
    "\n",
    "* $\\bar{y}_{i \\cdot} = (y_{i1} + y_{i2} + \\cdots + y_{i n_i})/n_i$;\n",
    "\n",
    "\n",
    "* $\\bar{y}_{\\cdot j} = (y_{1j} + y_{2j} + \\cdots + y_{kj})/k$;\n",
    "\n",
    "\n",
    "* $\\bar{y}_{\\cdot \\cdot} = \\sum_{i,j} y_{ij}/{N}$.\n",
    "\n",
    "\n",
    "\n",
    "The following estimates of parameters are generally used:\n",
    "\n",
    "\n",
    "* $\\hat \\eta = \\bar{y}_{..}; ~~~\\hat \\tau_i = \\bar{y}_{i \\cdot} - \\bar{y}_{..}$.\n",
    "\n",
    "\n",
    "Each observed value can be decomposed as\n",
    "\n",
    "$\n",
    "y_{ij} \n",
    " = \\bar{y}_{..} + (\\bar{y}_{i \\cdot} - \\bar{y}_{..}) + (y_{ij} - \\bar{y}_{i \\cdot})\n",
    " = \\hat \\eta + \\hat \\tau_i + r_{ij}.\n",
    "$\n",
    "\n"
   ]
  },
  {
   "cell_type": "markdown",
   "id": "b9b1f2ba-39a6-4ca5-93e8-614caab9c721",
   "metadata": {},
   "source": [
    "## The question this experiment aims to answer\n",
    "\n",
    "\n",
    "Do these treatments have different effects in terms of the brightness of the pulp sheets they produce?\n",
    "\n",
    "\n",
    "In statistical language: test the hypothesis that $H_0: \\tau_1 = \\tau_2 = \\cdots = \\tau_k = 0$.\n",
    "\n",
    "\n",
    "* If their sum is 0 and they are equal, then all of them must be zero.\n",
    "\n",
    "\n",
    "#### Whether they are all zero or not is best reflected in the size of\n",
    "\n",
    "SS$_{trt} = n_1\\hat \\tau_1^2 + n_2\\hat \\tau_2^2 + \\cdots + n_k\\hat\\tau_k^2 \n",
    "= \\sum_{i=1}^k n_i(\\bar y_{i\\cdot} - \\bar{y}_{\\cdot \\cdot})^2.$\n",
    "\n",
    "\n",
    "* We call this quantity the treatment sum of squares.\n"
   ]
  },
  {
   "cell_type": "markdown",
   "id": "037a5e4d-cb2b-43ad-a3bd-2719b05fcf66",
   "metadata": {},
   "source": [
    "## F-test/Distribution\n",
    "Is $\\mbox{SS}_{trt}$ sufficiently large to justify rejecting $H_0$?\n",
    "\n",
    "* We compare its size against the residual sum of squares\n",
    "\n",
    "$\\mbox{SS}_{err} = \\sum_{i=1}^k \\sum_{j=1}^{n_i} (y_{ij} - \\bar y_{i\\cdot})^2$\n",
    "This leads to the Analysis of Variance Table.\n",
    "\n",
    "$F = \\mbox{MSS}_{Trt}/\\mbox{MSS}_{err}$ has an F-distribution with $k-1$ and $N-k$ degrees of freedom when $H_0$ is true.\n",
    "\n",
    "An unusually large $F_{obs}$, indicates the treatment sum of squares is likely inflated due to unequal $\\tau_i$ values.\n",
    "\n",
    "Hence, we compute p-value as $P( F > F_{obs})$ and reject $H_0$ when the p-value is small (than 5%).\n"
   ]
  },
  {
   "cell_type": "markdown",
   "id": "f2b3c595-49f4-4781-9a52-fee912457405",
   "metadata": {},
   "source": [
    "## ANOVA for One-way layout"
   ]
  },
  {
   "cell_type": "markdown",
   "id": "b0350774-1634-4425-b292-34465c1138f7",
   "metadata": {
    "tags": []
   },
   "source": [
    "\\begin{matrix}\n",
    "\\mbox{Source} & \\mbox{DF} & \\mbox{SS}  & \\mbox{MSS} & \\mbox{F} \\\\\n",
    "\\mbox{Trt} & k-1\n",
    "& \n",
    "\\sum_{i=1}^k n_i(\\bar y_{i \\cdot}-\\bar y_{\\cdot\\cdot})^2\n",
    "&\n",
    "\\mbox{SS}_{trt}/(k-1) & * \\\\\n",
    "\\mbox{Resid/Error} & N-k\n",
    "& \n",
    "\\sum_{i=1}^k \\sum_{j=1}^{n_i}(y_{i j} - \\bar y_{i \\cdot})^2\n",
    "&\n",
    "\\mbox{SS}_{err}/(N-k)& \\\\\n",
    "\\mbox{Total} & N-1 &\n",
    "\\sum_{i=1}^k \\sum_{j=1}^{n_i}(y_{i j} - \\bar y_{\\cdot \\cdot})^2\n",
    "\\end{matrix}\n",
    "\n",
    "The F-statistic is defined to be\n",
    "$F = \\mbox{MSS}_{trt}/\\mbox{MSS}_{err}$."
   ]
  },
  {
   "cell_type": "markdown",
   "id": "a8c87f8c",
   "metadata": {},
   "source": [
    "one way anova Model:  $ y_{ij} = \\eta + \\tau_i + \\epsilon_{ij}$"
   ]
  },
  {
   "cell_type": "markdown",
   "id": "9d6bb0bb-4adc-4ca4-8ac2-52126d458e04",
   "metadata": {},
   "source": [
    "## Equations/Sample code to calculate ANOVA table"
   ]
  },
  {
   "cell_type": "markdown",
   "id": "9809980d-adcb-4ff7-9cff-02cf1519f761",
   "metadata": {},
   "source": [
    "#### Sum of Squares for treatment \n",
    "\n",
    "\n",
    "* SS$_{trt}=\\sum_{i=1}^k n_i(\\bar y_{i \\cdot}-\\bar y_{\\cdot\\cdot})^2$\n",
    "\n",
    "\n",
    "* MSS $_{trt}=\\mbox{SS}_{trt}/(k-1)$"
   ]
  },
  {
   "cell_type": "markdown",
   "id": "54ebdb61-c764-4af4-b4dc-4118e6b12c6f",
   "metadata": {},
   "source": [
    "#### Sum of Squares for treatment \n",
    "\n",
    "* SS$_{trt}=\\sum_{i=1}^k n_i(\\bar y_{i \\cdot}-\\bar y_{\\cdot\\cdot})^2$\n",
    "\n",
    "* MSS $_{trt}=\\mbox{SS}_{trt}/(k-1)$"
   ]
  },
  {
   "cell_type": "markdown",
   "id": "95012100-caf7-4d52-856e-0d3df7d8b700",
   "metadata": {},
   "source": [
    "#### Sum of Squares for error\n",
    "\n",
    "\n",
    "* SS$_{err} =\\sum_{i=1}^k \\sum_{j=1}^{n_i} ( y_{i j} - \\bar y_{i \\cdot})^2$ \n",
    "\n",
    "\n",
    "* MSS$_{err}$ = SS$_{err}/(N-k)$"
   ]
  },
  {
   "cell_type": "code",
   "execution_count": null,
   "id": "9dd17091-73fd-4fd0-bc58-113bf1af35d6",
   "metadata": {},
   "outputs": [],
   "source": [
    "aa = c(...) ; bb = c(...) ; cc = c(...) ; dd = c(...) ; \n",
    "yy = c(aa, bb, cc, dd)\n",
    "\n",
    "aabar = mean(aa); bbbar = mean(bb); ccbar = mean(cc); ddbar = mean(dd); \n",
    "yybar = mean(yy)\n",
    "\n",
    "SS.trt = n*((aabar - yybar)^2+(bbbar - yybar)^2 + (ccbar - yybar)^2 + (ddbar - yybar)^2)\n",
    "MSS.trt = SS.trt/(k-1)\n",
    "\n",
    "print(c(aabar, bbbar, ccbar, ddbar)) ; print(mean(yy)) ; print(SS.trt) ; print(MSS.trt)"
   ]
  },
  {
   "cell_type": "markdown",
   "id": "1c290173-1208-4b17-9ceb-fcd68534e8f6",
   "metadata": {},
   "source": [
    "#### Sum of Squares for error\n",
    "\n",
    "* SS$_{err} =\\sum_{i=1}^k \\sum_{j=1}^{n_i} ( y_{i j} - \\bar y_{i \\cdot})^2$ \n",
    "\n",
    "* MSS$_{err}$ = SS$_{err}/(N-k)$"
   ]
  },
  {
   "cell_type": "markdown",
   "id": "39b5f88d-8e53-461e-8e2e-ba0f9a94257d",
   "metadata": {},
   "source": [
    "#### Total Sum of Squares/F-value/P-value:\n",
    "\n",
    "\n",
    "SS$_{tot} = \\sum_{i=1}^k \\sum_{j=1}^{n_i} ( y_{i j} - \\bar y_{\\cdot \\cdot})^2$\n",
    "\n",
    "\n",
    "Remark: it is not used for inference. It should equal the sum of the other two.\n"
   ]
  },
  {
   "cell_type": "code",
   "execution_count": null,
   "id": "4579affc-240d-4752-a57b-d90b5c73ec40",
   "metadata": {},
   "outputs": [],
   "source": [
    "SS.e = sum((aa - aabar)^2)+sum((bb-bbbar)^2)+sum((cc-ccbar)^2) + sum((dd-ddbar)^2)\n",
    "\n",
    "MSS.e = SS.e/(N-k)\n",
    "\n",
    "print(SS.e);  print(MSS.e)"
   ]
  },
  {
   "cell_type": "markdown",
   "id": "63ba9aeb-7549-4534-b662-078087805ccb",
   "metadata": {},
   "source": [
    "#### Total Sum of Squares/F value/p-value:\n",
    "\n",
    "SS$_{tot} = \\sum_{i=1}^k \\sum_{j=1}^{n_i} ( y_{i j} - \\bar y_{\\cdot \\cdot})^2$\n",
    "\n",
    "Remark: it is not used for inference. It should equal the sum of the other two."
   ]
  },
  {
   "cell_type": "code",
   "execution_count": null,
   "id": "374c9f6b-58e0-4348-a462-c4195e6ed985",
   "metadata": {},
   "outputs": [],
   "source": [
    "SS.tot = sum( (yy - mean(yy))^2)\n",
    "\n",
    "print(SS.tot)\n",
    "\n",
    "#F-value\n",
    "f = MSS.trt/MSS.e\n",
    "\n",
    "#p-value\n",
    "p.value = pf(f, k-1, N-k, lower.tail=F)\n",
    "\n",
    "#Calculate f stat\n",
    "qf(1-alpha, k-1, n-k)\n",
    "#For F test, if f stat > f critical value, results statistically significant.\n",
    "#may not be necessary to calculate "
   ]
  },
  {
   "cell_type": "code",
   "execution_count": null,
   "id": "3f865104-b7b9-4670-99ca-4bbbd916b5f5",
   "metadata": {},
   "outputs": [],
   "source": [
    "#check your ans:\n",
    "\n",
    "## standard R function for one-way anova\n",
    "## we first organize the data into required data.frame format.\n",
    "trt = c(rep(\"aa\", n), rep(\"bb\", n), rep(\"cc\", n), rep(\"dd\", n))\n",
    "pulp.data = data.frame(yy, trt)\n",
    "\n",
    "SS.tot = sum((yy-mean(yy))^2) \n",
    "## extra calculation for other purposes.\n",
    "\n",
    "pulp.aov <- aov(yy ~ trt, pulp.data)\n",
    "summary(pulp.aov)"
   ]
  },
  {
   "cell_type": "markdown",
   "id": "ce6d1a83-5434-463f-9b7c-ae39c0324420",
   "metadata": {
    "tags": []
   },
   "source": [
    "# 3.1 One way Layout, Multiple Comparison, Simultaneous CIs"
   ]
  },
  {
   "cell_type": "markdown",
   "id": "83bdde29-ae53-4dc5-a13b-56b91f95b0f5",
   "metadata": {},
   "source": [
    "### Note: Tukey’s method and the Bonferroni method CI, the intervals that does NOT contain 0 means that the corresponding group has significantly different mean.\n",
    "\n",
    "ie. If the interval excludes 0, then the difference of the means of the two groups is significant."
   ]
  },
  {
   "cell_type": "markdown",
   "id": "51a86207-8183-4aab-9a8a-722cc6851fcd",
   "metadata": {},
   "source": [
    "### Applying this idea for one-way layout\n",
    "\n",
    "### Bonferroni - used to control family-wise type I error, proof in lecture 3.1 sub\n",
    "\n",
    "* there are $k' = k(1-k)/2$ (k choose 2) parameters of interest/pairs ($\\mu_i - \\mu_j$), $\\alpha' = \\alpha/k'$.\n",
    "    in one-way layout.\n",
    "\n",
    "* for two-sided simultaneous CIs,  use $\\alpha'/2$.\n",
    "* The Bonferroni method rejects any $H_{ij}: \\mu_i = \\mu_j$ only if\n",
    "$\n",
    "|t_{ij}| > t( 1-\\alpha'/2; N-k).\n",
    "$"
   ]
  },
  {
   "cell_type": "markdown",
   "id": "eb820bd2-6716-4e1f-8d0f-e43ba2cad810",
   "metadata": {},
   "source": [
    "* the t-statistic for this purpose \n",
    "\n",
    "$$\n",
    "\\frac{ (\\bar y_{j \\cdot} - \\bar y_{i \\cdot})-(\\mu_j - \\mu_i) }{\\sqrt{ (1/n_i + 1/n_j) \\hat \\sigma^2}}.\n",
    "$$\n",
    "\n",
    "\n",
    "* the two-sided simultaneous CIs for $\\mu_j - \\mu_i$ derived from it:\n",
    "\n",
    "$$\n",
    "(\\bar y_{j \\cdot} - \\bar y_{i \\cdot})\n",
    "\\pm t(1-\\alpha'/2, N-k) ~ \\hat \\sigma \\sqrt{1/n_i + 1/n_j}.\n",
    "$$\n",
    "\n",
    "\n",
    "* the error variance $\\hat \\sigma^2$ is estimated by MSS$_{err}$.\n",
    "\n",
    "### Variations:\n",
    "\n",
    "* When $n_i = n_j = n$, we have $\\sqrt{1/n_i + 1/n_j} = \\sqrt{2/n}$.\n",
    "\n",
    "\n",
    "* Logic: transfer $\\theta \\to \\mu_j - \\mu_i$, \n",
    "$\\hat \\theta_i \\to (\\bar y_{j \\cdot} - \\bar y_{i \\cdot})$, \n",
    "and \n",
    "$\\widehat{var}(\\hat \\theta) \\to (1/n_i + 1/n_j) \\hat \\sigma^2$.\n",
    "\n",
    "\n",
    "* Simultaneous one-sided CIs have form\n",
    "\n",
    "$$\n",
    "(\\bar y_{j \\cdot} - \\bar y_{i \\cdot})\n",
    "\\pm t(1-\\alpha', N-k) ~ \\hat \\sigma \\sqrt{1/n_i + 1/n_j}.\n",
    "$$"
   ]
  },
  {
   "cell_type": "markdown",
   "id": "70260716-0cdb-450a-96c2-8da35e5e4b08",
   "metadata": {},
   "source": [
    "### Bonferroni guarantees probability of covering all is no less than 95%, not can lead to CI of extra length or test of much lower power.\n",
    "\n",
    "\n",
    "### Tukey's method is one of many possible remedies. Especially when number of hypothesis k is large (5 or more), Bonferroni is too conservative.\n",
    "\n",
    "\n",
    "* We confine ourselves in the context of one-way layout.\n",
    "\n",
    "\n",
    "* The difference in means are estimated by \n",
    "    $\\bar y_{i\\cdot}-\\bar y_{j \\cdot}$\n",
    "\n",
    "\n",
    "* The key quantity is given by\n",
    "\n",
    "$$ t_{ij} = \n",
    "\\frac{(\\bar y_{i\\cdot}-\\bar y_{j \\cdot}) - (\\mu_i - \\mu_j)}\n",
    "{\\sqrt{ (1/n_i + 1/n_j)s^2}}.\n",
    "$$\n",
    "\n",
    "\n",
    "* A key quantity for testing $\\mu_i - \\mu_j = 0$ for all $i, j$\n",
    "is \n",
    "\n",
    "$$\n",
    "t^* = \\sqrt{2} \\max \\{ |t_{ij}| \\}\n",
    "$$\n",
    "\n",
    "> with $\\mu_i - \\mu_j = 0$ when calculating $t_{ij}$.\n",
    "\n",
    "\n",
    "**Pay no attention to $sqrt{2}$ here, it is statistically irrelevant at this moment**"
   ]
  },
  {
   "cell_type": "markdown",
   "id": "3fdaec9e-1b4a-41f2-907a-ab688aec3616",
   "metadata": {},
   "source": [
    "* Reject null hypothesis that all treatments have equal mean when \n",
    "$$|t_{ij}| > qtukey(1- \\alpha; k, N-k)/\\sqrt{2}$$.\n",
    "\n",
    "\n",
    "* The null rejection rate is given by $\\alpha$.\n",
    "\n",
    "* the two-sided simultaneous CIs for $\\mu_j - \\mu_i$ derived from it:\n",
    "\n",
    "$$\n",
    "(\\bar y_{j \\cdot} - \\bar y_{i \\cdot})\n",
    "\\pm \\frac {1}{\\sqrt{2}}tukey(1-\\alpha,k, N-k) ~ \\hat \\sigma \\sqrt{1/n_i + 1/n_j}.\n",
    "$$"
   ]
  },
  {
   "cell_type": "markdown",
   "id": "1d458e53-cd43-4d52-9c87-31e9524ecb7e",
   "metadata": {},
   "source": [
    "### Simultaneous CI by Tukey method\n",
    "\n",
    "\n",
    "We may use Tukey method to construct simultaneous CI based on the same idea:\n",
    "\n",
    "$$\n",
    "\\frac{ \\sqrt{2}|(\\hat \\tau_i - \\hat \\tau_j)-(\\tau_i - \\tau_j)|}\n",
    "{\\sqrt{(1/n_i + 1/n_j)s^2}} \\leq qtukey(1- \\alpha; k, N-k)\n",
    "$$\n",
    "> for all $i, j$.\n",
    "\n",
    "\n",
    "In particular, for the pulp example, $k=4, N=20$, the\n",
    "($\\mu_B - \\mu_D$) part of the simultaneous 95\\% CIs is given by\n",
    "\n",
    "$$\n",
    "0.62 \\pm 2.86\\times \\sqrt{1/5 + 1/5}\\times \\sqrt{0.106}\n",
    "= [ 0.03, 1.21].\n",
    "$$\n",
    "\n",
    "\n",
    "Since 0 is not in this interval, the method again finds\n",
    "the $\\mu_B - \\mu_D \\neq 0$ at $0.05$ significance level.\n",
    "\n",
    "\n",
    "**Remark: conclusions of different methods do not have to be identical**"
   ]
  },
  {
   "cell_type": "markdown",
   "id": "d9547690-812b-43e4-b729-209da8768726",
   "metadata": {},
   "source": [
    "# 3.3 Sample size determination, Power, Random Effects\n",
    "\n",
    "* Let\n",
    "$$\n",
    "\\mbox{SS}_{err} = \\sum_{i=1}^k \\sum_{j=1}^{n_i} (y_{ij} - \\bar y_{i \\cdot})^2\n",
    "$$\n",
    "\n",
    ">be the sum of squares due to error terms. \n",
    "\n",
    "\n",
    "* We will show that $\\sum_{j=1}^{n_i} (y_{ij} - \\bar y_{i \\cdot})^2/\\sigma^2$ has a chisquare distribution with df = $n_i-1$.\n",
    "\n",
    "\n",
    "* This further implies $E[\\sum_{j=1}^{n_i} (y_{ij} - \\bar y_{i \\cdot})^2] = (n_i-1) \\sigma^2$.\n",
    "\n",
    "* Similarly, we have E$(\\mbox{SS}_{err}) = (N-k) \\sigma^2$.\n",
    "\n",
    "\n",
    "* Therefore, we choose\n",
    "\n",
    "\n",
    "$$\n",
    "s^2 = (N-k)^{-1} \\mbox{SS}_{err}\n",
    "$$\n",
    "\n",
    "\n",
    ">as an estimator of $\\sigma^2$. \n",
    "\n",
    "\n",
    "* We claimed that\n",
    "\n",
    "$$\n",
    "F = \\frac{\\mbox{MSS}_{trt}}{\\mbox{MSS}_{err}} = \\frac{\\mbox{MSS}_{trt}}{s^2}\n",
    "$$\n",
    "\n",
    "> has F-distribution with $k-1$ and $N-k$ degrees of freedom **when $H_0$ is true**.\n",
    "\n",
    "\n",
    "* These are basis for sample size calculation."
   ]
  },
  {
   "cell_type": "markdown",
   "id": "c96e0082-f145-49b8-b44a-27358ad8c7a9",
   "metadata": {},
   "source": [
    "* Suppose that scientists hope to confirm that treatment effects are significantly different by an experiment.\n",
    "\n",
    "* Even if such a difference is real, there is no guarantee that a simple experiment will provide convincing statistical evidence.\n",
    "\n",
    "(1) As long as one cannot eliminate the randomness in the experiment,\n",
    "there is no way to make the case with a 100% guarantee.\n",
    "\n",
    "(2) The lower is the difference in treatment effects, the larger is\n",
    "the required sample size.\n",
    "\n",
    "(3) Increasing sample size (replicates) elevates the chance of detecting the difference **if there is any**.\n",
    "\n",
    "**If we believe the effect is very low, there is no point to try to confirm it**"
   ]
  },
  {
   "cell_type": "markdown",
   "id": "56d7818d-878c-4033-8831-598e338f2d85",
   "metadata": {},
   "source": [
    "Sample size needed depends on how large the effect is, how large the experimental error is -> give a formula based on F-test"
   ]
  },
  {
   "cell_type": "markdown",
   "id": "b23dff67-19a6-413f-88cb-f79ec081d326",
   "metadata": {},
   "source": [
    "* We will find\n",
    "\n",
    "$$\n",
    "E \\{ Y_{i\\cdot} - Y_{\\cdot \\cdot}\\} = \\tau_i - \\bar \\tau \\neq 0\n",
    "$$\n",
    "\n",
    ">where $\\bar \\tau = N^{-1} \\sum_{i=1}^k n_i \\tau_i$ is the weighted mean.\n",
    "\n",
    "\n",
    "* This makes\n",
    "\n",
    "$$\n",
    "E\\{ \\mbox{SS}_{trt}\\} \n",
    "= (k-1)  \\sigma^2 + \\sum_{i=1}^k n_i(\\tau_i - \\bar \\tau)^2 = [(k-1) + \\delta] \\sigma^2.\n",
    "$$\n",
    "\n",
    "\n",
    "* The extra term $\\delta = \\sum_{i=1}^k n_i(\\tau_i - \\bar \\tau)^2/\\sigma^2$ is very important. "
   ]
  },
  {
   "cell_type": "markdown",
   "id": "efcefae7-1ada-4313-a90a-85c863d5e1bd",
   "metadata": {},
   "source": [
    "* The power of the F-test depends on\n",
    "\n",
    " - effect sizes $\\tau_i$, $i=1, 2, \\ldots, k$; \n",
    " \n",
    " - the number of replicates $n_i$; \n",
    " \n",
    " - size of experimental error $\\sigma^2$."
   ]
  },
  {
   "cell_type": "markdown",
   "id": "8e590ed1-9315-4d81-bb28-ebf83a5f878b",
   "metadata": {},
   "source": [
    "### Numerical Illustration, template\n",
    "\n",
    "* compute the noncentral parameter: $\\delta = \\sum_{i=1}^k n_i(\\tau_i - \\bar \\tau)^2/\\sigma^2$ and $N= n_1 + \\cdots + n_k$.\n",
    "\n",
    "* obtain the value of $qq = qf(0.95, k-1, N-k)$.\n",
    "\n",
    "* The power is $P( X > qq)$ or $pw = 1- pf(qq,\\delta, k-1, N-k)$."
   ]
  },
  {
   "cell_type": "code",
   "execution_count": null,
   "id": "91269979-cbec-4996-a550-3a77225f3d13",
   "metadata": {},
   "outputs": [],
   "source": [
    "## Work out the case when delta = 2.5^2, k=5, n= 8, N = nk$.\n",
    "\n",
    "n=8; k=5; N= n*k;\n",
    "delta = 2.5^2\n",
    "qq = round(qf(0.95, k-1, N-k), 4); \n",
    "print(c(\"critical value=\", qq))\n",
    "pw = pf(qq, k-1, N-k, delta, lower.tail=F); \n",
    "print(c(\"power=\",round(pw, 4)))\n",
    "\n",
    "### Increasing n usually leads to increased delta value. \n"
   ]
  },
  {
   "cell_type": "markdown",
   "id": "55b2a523-5564-464c-ba4e-29d907274ff6",
   "metadata": {
    "tags": []
   },
   "source": [
    "### Sample size calculation\n",
    "\n",
    "\n",
    "* Suppose $k=5$ and we plan to put $n = n_1 = \\ldots = n_5$.\n",
    "\n",
    "\n",
    "* Suppose $\\sigma^2 = 3.5$ so that $\\delta = n \\sum_{i=1}^5\\tau_i^2/3.5$. Note that $\\bar \\tau = 0$ in this case.\n",
    "\n",
    "\n",
    "* Suppose we wish to reject $H_0: \\tau_1= \\cdots = \\tau_5=0$ with $80\\%$ power when the truth is $\\delta = 0.2n$ based on a 5\\% level F-test.\n",
    "\n",
    "\n",
    "* How large should $N = 5n$ be?\n",
    "\n",
    "\n",
    "* We do not have a direct formula for $n$. We use trial and error."
   ]
  },
  {
   "cell_type": "code",
   "execution_count": null,
   "id": "c599895a-33cb-41f2-8bd0-4e65f478147f",
   "metadata": {},
   "outputs": [],
   "source": [
    "## we try n values from 5 to 100\n",
    "\n",
    "k=5; nn = 5:100; delta = 0.2;\n",
    "qq = qf(0.95, k-1, nn*k-k)\n",
    "temp = rep(0, 96)\n",
    "for(i in 1:96) temp[i] = pf(qq[i], k-1, (nn[i]-1)*k, nn[i]*delta, lower.tail=F)\n",
    "\n",
    "print(round(temp, 3))\n",
    "## Identify the one closest to 0.80 and the corresponding nn."
   ]
  },
  {
   "cell_type": "markdown",
   "id": "0ebe1973-5891-46fe-a927-5fcad033a6a7",
   "metadata": {},
   "source": [
    "### Remark\n",
    "\n",
    "* If specific values of $\\tau_i$ and the value of $\\sigma^2$ are given, one should compute the value of $\\delta$ by \n",
    "\n",
    "$$\\delta = \\sum_{i=1}^k n_i(\\tau_i - \\bar \\tau)^2/\\sigma^2$$\n",
    "\n",
    "> and that $\\bar \\tau = \\sum n_i \\tau_i / \\sum n_i$ for all permitted $n_i$ combinations. \n",
    "\n",
    "\n",
    "* The classroom example assumes $n_i$ are equal and $\\delta = 0.2n$. In assignment, you need to work them out."
   ]
  },
  {
   "cell_type": "markdown",
   "id": "a1d99380-69fa-455e-a0c2-1a073f5df3a4",
   "metadata": {},
   "source": [
    "### Random effects\n",
    "\n",
    "* Suppose that there is a large pool of operators. \n",
    "\n",
    "* We may randomly choose four operators, also call them $A, B, C$, and $D$, as four levels of one factor in the experiment. \n",
    "\n",
    "* We are interested not in the difference between **these four** operators,  but on the difference between **whole population** of operators.\n",
    "\n",
    "* When we randomly choose four operators from a population, their effects form a random sample from a pool of effect.  Thus, these effects are random and referred to as **random effects**.\n",
    "\n",
    "* These 4 operators represent the population of operators, not themselves."
   ]
  },
  {
   "cell_type": "markdown",
   "id": "9a3fe584-d8da-4528-bf01-70db4e8c9f30",
   "metadata": {},
   "source": [
    "### Random effects model for one-way layout\n",
    "\n",
    "\n",
    "* The discussion leads to **one-way random effects** model:\n",
    "\n",
    "$$\n",
    "y_{ij} = \\eta + \\tau_i + \\epsilon_{ij}, ~~~\n",
    "i=1, 2, \\ldots, k; ~~ j=1, 2, \\ldots, n_i\n",
    "$$\n",
    "\n",
    "> the same as before with one **distinction**: $\\tau_i$ are now **random variables**.\n",
    "\n",
    "* This leads to different analysis, $\\tau_i, i=1, \\ldots, k$ are now regarded as independent random variables with mean 0, variance $\\sigma_\\tau^2$, and that they are assumed to be independent of $\\epsilon_{ij}$.\n",
    "\n",
    "* This model has two **variance components**: $\\sigma_\\tau^2$ and $\\sigma^2$.\n",
    "\n",
    "\n",
    "* The first one captures the **between operator** and the second one captures the **within operator** variations.\n",
    "\n",
    "\n",
    "* The analysis of the one-way random effects model lies in testing\n",
    "\n",
    "$$\n",
    "H_0: \\sigma_\\tau^2 = 0.\n",
    "$$\n",
    "> against the alternative $\\sigma_\\tau^2 > 0$."
   ]
  },
  {
   "cell_type": "markdown",
   "id": "5d994d3c-5a91-4a0d-a11a-c723e4fb9a04",
   "metadata": {},
   "source": [
    "* We still have $\\bar y_{\\cdot \\cdot}$ as the overall sample mean and $\\bar y_{i \\cdot}$ as treatment specific sample means.\n",
    "\n",
    "\n",
    "* The variation between treatments is still\n",
    "\n",
    "$$\n",
    "\\mbox{SS}(trt) = \\sum_{i=1}^k n_i (\\bar y_{i \\cdot} - \\bar y_{\\cdot \\cdot})^2\n",
    "$$\n",
    "\n",
    "> and variation due to error (caused by unattributable factors)\n",
    "\n",
    "$$\n",
    "\\mbox{SS}(err) =  \\sum_{i=1}^k \\sum_{j=1}^{n_i} (y_{ij} - \\bar y_{i \\cdot})^2.\n",
    "$$\n",
    "\n",
    "\n",
    "* The mean sum of squares(variations) are\n",
    "\n",
    "$$\n",
    "\\mbox{MSS}(trt) = \\mbox{SS}(trt)/(k-1) ~~\\mbox{and}~~ \\mbox{MSS}(err) =  \\mbox{SS}(err) /(N-k).\n",
    "$$\n",
    "\n",
    "* Their ratio is the same F-statistic defined in the one-way layout\n",
    "\n",
    "$$\n",
    "F = \\frac{\\mbox{MSS}(trt)}{\\mbox{MSS}(err)}.\n",
    "$$\n",
    "\n",
    "* The F-statistic still has F-distribution with degrees of freedom $k-1$ and $N-k$ when $H_0: \\sigma^2_\\tau = 0$ holds. "
   ]
  },
  {
   "cell_type": "markdown",
   "id": "5203f97b-f978-4b15-9ddc-d1c8e313690c",
   "metadata": {},
   "source": [
    "* Suppose $H_0$ is rejected, we do not determine which pair (or pairs) of treatments contributed most to the rejection. \n",
    "\n",
    "\n",
    "-- The reason is simple: the difference between pairs is no longer meaningful in this design.\n",
    "\n",
    "\n",
    "-- We ask how large is $\\sigma_\\tau^2$ by giving a good estimate.\n",
    "\n",
    "### Estimating $\\sigma_\\tau^2$.\n",
    "\n",
    "\n",
    "* The usual culprit $\\mbox{MSS}(trt)$ is now used to measure the variation between treatments. \n",
    "\n",
    "\n",
    "* Yet both the difference in $\\tau_i$ and the experiment error $\\epsilon_{ij}$ contribute to the variation measured by $(\\bar y_{i \\cdot} - \\bar y_{\\cdot \\cdot})^2$.\n",
    "\n",
    "\n",
    "* When $n_i$'s are equal\n",
    "\n",
    "$$\n",
    "E\\{ \n",
    "\\mbox{SS}(trt) \\} = n(k-1) \\sigma_\\tau^2 + (k-1) \\sigma^2.\n",
    "$$\n",
    "\n",
    "\n",
    "* We need to exclude $\\sigma^2$ from $\\{ \\mbox{SS}(Trt) \\}/\\{n(k-1)\\}$ to construct a defensible estimator.\n",
    "\n",
    "\n",
    "* The widely recommended estimator for $\\sigma^2_\\tau$ is\n",
    "\n",
    "$$\n",
    "\\hat \\sigma^2_\\tau = \\frac{\\mbox{MSS}(trt) - \\mbox{MSS}(Err)}{n}.\n",
    "$$"
   ]
  },
  {
   "cell_type": "markdown",
   "id": "0176a6e6-94ce-4bc7-adc8-7e3cc5e446be",
   "metadata": {},
   "source": [
    "* If we estimate $\\sigma_\\tau^2$ without first performing an F-test, use $\\max \\{0, \\hat \\sigma^2_\\tau\\}$ instead (so we don't get a negative variance)\n",
    "\n",
    "\n",
    "* If the estimated value is zero, it does not imply $\\sigma_\\tau^2 =0$. The experiment shows that it is too small to matter."
   ]
  },
  {
   "cell_type": "markdown",
   "id": "23944d7c-102e-4113-ad5d-fd41bb49199d",
   "metadata": {
    "tags": []
   },
   "source": [
    "###  A numerical example of the random effect model:\n",
    "\n",
    "\n",
    "* Let us re-analyze the pulp data, by **regarding** four operators as a random set from an imaginary population of operators.\n",
    "\n",
    "\n",
    "* Under the new model assumption, the focus of the analysis is to test the hypothesis \n",
    "$\n",
    "~~~H_0: \\sigma_\\tau^2 = 0.\n",
    "$\n",
    "\n",
    "\n",
    "* Recall that\n",
    "$\n",
    "\\mbox{MSS}(trt) = 0.447; ~~~\\mbox{MSS}(err) = 0.106.\n",
    "$\n",
    "and\n",
    "$\n",
    "F_{obs} = \\frac{0.447}{0.106} = 4.20.\n",
    "$\n",
    "\n",
    "\n",
    "* We had \n",
    "$\n",
    "p.value = P( F > F_{obs} ) = 0.0226\n",
    "$\n",
    "according to reference distribution $F_{3, 16}$.\n",
    "\n",
    "\n",
    "* We reject the null hypothesis at the 5% significance level."
   ]
  },
  {
   "cell_type": "markdown",
   "id": "605b076f-29ec-464a-aadd-ee057e42ce2d",
   "metadata": {},
   "source": [
    "### Aftermath of rejection\n",
    "\n",
    "\n",
    "* We estimate $\\sigma_\\tau^2$ by\n",
    "$\n",
    "\\hat \\sigma_\\tau^2 = \\frac{0.447 - 0.106}{5} = 0.068.\n",
    "$\n",
    "\n",
    "\n",
    "* When $n_i$ are not equal, use the formula given earlier."
   ]
  },
  {
   "cell_type": "markdown",
   "id": "9ec0a99d",
   "metadata": {},
   "source": [
    "### Implied problem: estimating overall mean response $\\eta$\n",
    "\n",
    "\n",
    "* The population parameter $\\eta$ is a meaningful value in the random effect model.\n",
    "\n",
    "\n",
    "\n",
    "* Not surprisingly, we estimate $\\eta$ by\n",
    "$\n",
    "\\hat \\eta = \\bar y_{\\cdot \\cdot} = N^{-1} \\sum_k \\sum_j y_{ij}.\n",
    "$\n",
    "\n",
    "\n",
    "* When $n_i$'s are equal, we have\n",
    "$\n",
    "var(\\hat \\eta ) = \\frac{\\sigma_\\tau^2}{k} + \\frac{\\sigma^2}{N}.\n",
    "$"
   ]
  },
  {
   "cell_type": "markdown",
   "id": "619d3a26-38ea-4398-b660-fa0b085cc602",
   "metadata": {},
   "source": [
    "### Estimating overall mean response $\\eta$\n",
    "\n",
    "\n",
    "* Numerically, we have $\\hat \\eta = 60.40$, $\\hat \\sigma_\\tau^2 = 0.068$ and $\\hat \\sigma^2 = 0.106$.\n",
    "\n",
    "\n",
    "* These lead to\n",
    "$\n",
    "\\widehat{var} (\\hat \\eta ) \n",
    "= \\frac{0.068}{4} + \\frac{0.106}{20} = 0.0223.\n",
    "$\n",
    "\n",
    "\n",
    "* A 95\\% confidence interval for $\\eta$ can therefore be constructed as\n",
    "\n",
    "$$\n",
    "\\hat \\eta \\pm t(0.975; {k-1}) \\sqrt{ \\widehat{var} (\\hat \\eta )}\n",
    "= [59.92, 60.88].\n",
    "$$\n",
    "\n",
    "\n",
    "* Remark: recall the universal CI structure.\n",
    "\n",
    "\n",
    "**We cannot fully justify the df used here. It is a sensible choice.**\n"
   ]
  },
  {
   "cell_type": "markdown",
   "id": "7763f842-8277-43c3-b6fe-c81aa36ad28e",
   "metadata": {},
   "source": [
    "# 4.1 Paired Experiment"
   ]
  },
  {
   "cell_type": "markdown",
   "id": "9957fffb",
   "metadata": {},
   "source": [
    "### Paired t-test against \n",
    "$H_a: \\delta \\neq 0$\n",
    "\n",
    "\n",
    "* The so-called paired t-test is mathematically one-sample t-test.\n",
    "\n",
    "\n",
    "* We first obtain $d_i$ values.\n",
    "\n",
    "\n",
    "* We then compute the sample mean of $d_i$.\n",
    "\n",
    "\n",
    "* Next, we compute\n",
    "\n",
    "$$\n",
    "t_{\\mbox{paired}} = tobs = \\frac{\\bar{d}}{\\sqrt{s^2/n} }\n",
    "$$\n",
    "\n",
    "> in obvious notation.\n",
    "\n",
    "\n",
    "* The **reference distribution**  is t-distribution with $n-$ degrees of freedom.\n",
    "\n",
    "\n",
    "* The p-value is computed as $P( |T_{n-1}| \\geq |tobs| )$.\n",
    "\n",
    "\n",
    "* The numericals will be done next."
   ]
  },
  {
   "cell_type": "code",
   "execution_count": null,
   "id": "d87cd1b9-48be-4d44-8545-4a0d355a9c69",
   "metadata": {},
   "outputs": [],
   "source": [
    "## R-code for paired-t\n",
    "tt = read.csv(\"STAT404.data2.csv\")\n",
    "xx = as.numeric(tt[,2])\n",
    "yy = as.numeric(tt[,3])\n",
    "ind = (xx < 25)|(yy < 25)\n",
    "xx1 = xx[!ind]; yy1 = yy[!ind]\n",
    "## data clearning\n",
    "dd = xx1 - yy1; ss = var(dd)\n",
    "Tobs = mean(dd)/(ss/length(dd))^.5\n",
    "pvalue = 2*(1-pt(abs(Tobs), length(dd)-1))\n",
    "\n",
    "print(round(pvalue, 3))\n",
    "### still not significant at 5% level, but closer.\n",
    "### would be nice that more of you contributed data"
   ]
  },
  {
   "cell_type": "markdown",
   "id": "cec4673a-958c-4021-a1ae-abfb42cf6b50",
   "metadata": {},
   "source": [
    "Note that if we change $H_a$ to one-sided $H_a: \\delta < 0$, p value becomes smaller.  If larger sample size, p-value likely smaller as well."
   ]
  },
  {
   "cell_type": "markdown",
   "id": "a8fac42d-8416-4d4b-9b43-9b33006d84f9",
   "metadata": {},
   "source": [
    "CI for $\\delta = \\mu_1 = \\mu_2$:"
   ]
  },
  {
   "cell_type": "code",
   "execution_count": null,
   "id": "5a8ec2f1-aac2-45dd-b455-b49d1c5f013d",
   "metadata": {},
   "outputs": [],
   "source": [
    "### The outcome of this particular data set (95%, one-sided)\n",
    "\n",
    "upper.limit = mean(dd) + qt(0.95, length(dd)-1)*(var(dd)/length(dd))^.5\n",
    "print(round(c(upper.limit), 4))\n"
   ]
  },
  {
   "cell_type": "markdown",
   "id": "736c9075-8727-485d-979b-d3e247a44af5",
   "metadata": {},
   "source": [
    "### Randomization test for paired experiment\n",
    "Suppose the two treatments are not different -> even if all of you reported the observations in a random order, the data should not appear very different from the correct data (in a stochastic way).\n",
    "\n",
    "Is it the case in this data set?\n",
    "\n",
    "We have n = 25 legitimate pairs of observations -> There are 225 =33554432 possible combinations/permutations for these pairs.\n",
    "How many of them will end up with a larger $\\bar{d}$?\n",
    "\n",
    "To avoid beating my computer to death, I will randomly choose 100, 000 of them."
   ]
  },
  {
   "cell_type": "code",
   "execution_count": null,
   "id": "24e2acf9-18cd-4b47-b44b-12f8c833cffa",
   "metadata": {},
   "outputs": [],
   "source": [
    "### To avoid beat my computer to death,\n",
    "count.twosided = 0;\n",
    "count.onesided = 0;\n",
    "nn = 25;\n",
    "tobs.twosided = abs(mean(dd))\n",
    "tobs.onesided = mean(dd)\n",
    "for(i in 1:100000) {\n",
    "rr = sample(c(-1, 1), nn, replace = T)\n",
    "count.twosided = count.twosided + (abs(mean(dd*rr)) > tobs.twosided)\n",
    "count.onesided = count.onesided + (mean(dd*rr) < tobs.onesided)\n",
    "}\n",
    "print(c(count.twosided, count.onesided)/100000) #basically the same as p values from earlier!"
   ]
  },
  {
   "cell_type": "markdown",
   "id": "c9fb6a2b",
   "metadata": {
    "tags": []
   },
   "source": [
    "# test的用途\n",
    "\n",
    "\n",
    "F test 两个sigma 对比F test  \n",
    "Chisquare ： 一个sigma 等于一个数字  \n",
    "T： miu 是否等于一个数 、一个miu 两个缪的  \n",
    "Anova： miu1 = miu2 = miu3 = miu4 "
   ]
  },
  {
   "cell_type": "markdown",
   "id": "a66105a1",
   "metadata": {},
   "source": []
  },
  {
   "cell_type": "markdown",
   "id": "4e5dfc09",
   "metadata": {},
   "source": [
    "我们没有replication 在two factor design。 error"
   ]
  },
  {
   "cell_type": "markdown",
   "id": "a7795617",
   "metadata": {},
   "source": [
    "## 5.1 Randomized block design\n",
    "\n",
    "Model: Model:  $ y_{ij} = \\eta +\\alpha_i +\\tau_j + \\epsilon_{ij}$"
   ]
  },
  {
   "cell_type": "markdown",
   "id": "e1d50d46",
   "metadata": {},
   "source": [
    "$$ \\eta = E ( \\sum_{i=1}^b \\sum_{j=1}^k y_{ij} )$$.\n",
    "\\begin{matrix}\n",
    "Para. &estimator & expression \\\\\n",
    "\\eta & \\bar y_{\\cdot \\cdot} & \n",
    "        (kb)^{-1}\\sum_{i=1}^b\\sum_{j=1}^k y_{ij}\\\\\n",
    "\\alpha_i & \\bar y_{i\\cdot} - \\bar y_{\\cdot \\cdot} &\n",
    "        k^{-1} \\sum_{j=1}^k y_{ij} - \\bar y_{\\cdot \\cdot}\\\\\n",
    "\\tau_j &\\bar y_{\\cdot j} - \\bar y_{\\cdot \\cdot} & \n",
    "        b^{-1} \\sum_{i=1}^b y_{ij} - \\bar y_{\\cdot \\cdot}\\\\\n",
    "\\sigma^2 & s^2 & [(b-1)(k-1)]^{-1} \n",
    "    \\sum_{i=1}^b \\sum_{j=1}^k \n",
    "    (y_{ij}-\\bar y_{i\\cdot}-\\bar y_{\\cdot j}+\\bar y_{\\cdot\\cdot} )^2\n",
    "\\end{matrix}"
   ]
  },
  {
   "cell_type": "markdown",
   "id": "1f8f3eba",
   "metadata": {},
   "source": [
    "### Test statistic\n",
    "\n",
    "\n",
    "* The size of $\\sum_{j=1}^k \\tau_j^2$ is naturally estimated by \n",
    "\n",
    "$$\\sum_{j=1}^k \\hat{\\tau_j}^2.$$\n",
    "\n",
    "\n",
    "* This leads to\n",
    "\n",
    "$$\n",
    "\\mbox{SS}(trt) = b \\sum_{j=1}^k (\\bar y_{ \\cdot j} - \\bar y_{\\cdot \\cdot})^2.\n",
    "$$\n",
    "\n",
    "\n",
    "* Is it large enough to contradict $H_0$? We compare it with\n",
    "\n",
    "$$\n",
    "\\mbox{SS}(err)\n",
    "=\n",
    "\\sum_{i=1}^b \\sum_{j=1}^k  (y_{ij} - \\bar y_{i \\cdot} - \\bar y_{\\cdot j} + \\bar y_{\\cdot \\cdot})^2.\n",
    "$$\n",
    "\n",
    "\n",
    "* Not surprisingly, this leads to the F-statistic\n",
    "\n",
    "$$ F = \\frac{\\mbox{MSS}_{trt}}{\\mbox{MSS}_{err}}.$$"
   ]
  },
  {
   "cell_type": "markdown",
   "id": "8646d820",
   "metadata": {},
   "source": [
    "$$\n",
    "t_{ij} \n",
    "= \\frac{ \\bar y_{\\cdot j} - \\bar y_{\\cdot i}}{ \\hat \\sigma \\sqrt{ 1/b + 1/b}}\n",
    "$$"
   ]
  },
  {
   "cell_type": "markdown",
   "id": "5f515feb",
   "metadata": {},
   "source": [
    "### Simultaneous CIs\n",
    "\n",
    "\n",
    "* The corresponding confidence interval of $\\tau_j - \\tau_i$  is given by\n",
    "$$\n",
    "(\\bar y_{\\cdot j} - \\bar y_{\\cdot i}) \\pm q_{k, (b-1)(k-1), \\alpha} \\hat \\sigma /\\sqrt{b}.\n",
    "$$\n"
   ]
  },
  {
   "cell_type": "markdown",
   "id": "cce82714",
   "metadata": {},
   "source": [
    "### ANOVA table for randomized block design\n",
    "\n",
    "\\begin{matrix}\n",
    "Source & DF & SS & \\mbox{MSS} & \\mbox{ F }\\\\\n",
    "Block & b-1 &\\sum_{i=1}^b k(\\bar y_{i\\cdot}-\\bar y_{\\cdot \\cdot})^2 \\\\\n",
    "Trt & k-1 &\\sum_{j=1}^k b(\\bar y_{\\cdot j} - \\bar y_{\\cdot \\cdot})^2 \\\\\n",
    "Err/Resi & (b-1)(k-1) & \\sum_{i=1}^b \\sum_{j=1}^k  (y_{ij} - \\bar y_{i \\cdot} - \\bar y_{\\cdot j} + \\bar y_{\\cdot \\cdot})^2 \\\\\n",
    "Total & bk - 1 &\\sum_{i=1}^b \\sum_{j=1}^k  (y_{ij} - \\bar y_{\\cdot \\cdot})^2\n",
    "\\end{matrix}\n",
    "\n",
    "The neat formulas are the result of a well-designed experiment."
   ]
  },
  {
   "cell_type": "markdown",
   "id": "ff4347b6",
   "metadata": {},
   "source": []
  },
  {
   "cell_type": "markdown",
   "id": "e34fc243",
   "metadata": {},
   "source": []
  },
  {
   "cell_type": "markdown",
   "id": "4a2dc954",
   "metadata": {},
   "source": []
  },
  {
   "cell_type": "markdown",
   "id": "915c662a",
   "metadata": {},
   "source": []
  },
  {
   "cell_type": "markdown",
   "id": "a6d44f4d",
   "metadata": {},
   "source": [
    "# Two way Anova\n",
    "Model:  $ y_{ijl} = \\eta +\\alpha_i+\\beta_j+\\omega_{ij}+ \\epsilon_{ijl}$"
   ]
  },
  {
   "cell_type": "markdown",
   "id": "b9d434c7-270b-402e-ba83-b55aa59c957b",
   "metadata": {},
   "source": [
    "# 7.1 Full Factorial design \n",
    "Model:  $$\n",
    "y_{il} = \\eta \\pm 0.5 \\mu_A \\pm 0.5\\mu_B \\pm 0.5\\mu_C + \\epsilon_{il}\n",
    "$$"
   ]
  },
  {
   "cell_type": "markdown",
   "id": "3f45142f-3993-482b-b9f7-7c1ca00aa7b5",
   "metadata": {},
   "source": [
    "Overall equaltion for $\\mu_A$ is "
   ]
  },
  {
   "cell_type": "markdown",
   "id": "e1607d62-ec5a-45d7-a516-ad8374300d6b",
   "metadata": {},
   "source": [
    "$$\n",
    "E\\{ Y | A = +\\} - E\\{ Y | A = -\\} \n",
    "    = (0.5) \\mu_A - (-0.5) \\mu_A = \\mu_A.\n",
    "$$"
   ]
  },
  {
   "cell_type": "markdown",
   "id": "5b8782b4-5a10-4ad6-9cfc-42f05c1bfe1a",
   "metadata": {},
   "source": [
    "### Data analysis\n",
    "\n",
    "\n",
    "* Now, we notice\n",
    "$$\n",
    "\\bar z(A+) - \\bar z(A-) \n",
    "= \\mu_A + \\{  \\bar \\epsilon(A+) -  \\bar \\epsilon(A-)\\}.\n",
    "$$\n",
    "\n",
    "\n",
    "* It can be seen that\n",
    "$\n",
    "\\hat \\mu_A = \\bar z(A+) - \\bar z(A-)\n",
    "$\n",
    "and it is a good estimator of the main effect $A$. \n",
    "\n",
    "\n",
    "\n",
    "* This estimator is normally distributed with mean $\\mu_A$ and variance $\\sigma^2/(n2^{k-2})$."
   ]
  },
  {
   "cell_type": "markdown",
   "id": "f63c208b",
   "metadata": {},
   "source": [
    "### The data on deviation from the target fill height.\n",
    "\n",
    "\n",
    "|run | A | B | C | $y_{i1}$ | $y_{i2}$ |\n",
    "|---|---|---|---|---|---|\n",
    "|1 | $-$ | $-$ | $-$ | $-3$ | $-1$|\n",
    "|2 | $-$ | $-$ | $+$ | $0 $ | $1$ |\n",
    "|3 | $-$ | $+$ | $-$ | $-1$ | $0$ |\n",
    "|4 | $-$ | $+$ | $+$ | $ 2$ | $3$ |\n",
    "|5 | $+$ | $-$ | $-$ | $-1$ | $0$ |\n",
    "|6 | $+$ | $-$ | $+$ | $ 2$ | $1$ |\n",
    "|7 | $+$ | $+$ | $-$ | $ 1$ | $2$ |\n",
    "|8 | $+$ | $+$ | $+$ | $ 6$ | $5$ |"
   ]
  },
  {
   "cell_type": "markdown",
   "id": "294c8ddd",
   "metadata": {},
   "source": [
    "### how to calculate the $\\mu$\n",
    "\n",
    "First no matter how many different y we just sum them up. Find + first then -\n",
    "\n",
    "上一道题先找A+ 然后把对应的y1 y2 全部加起来。\n",
    "\n",
    "比如A 就是（-1+0+2+3+1+2+6+5）/8  -  （-3-1+0+1-1+0+2+1）/8"
   ]
  },
  {
   "cell_type": "markdown",
   "id": "596b8b6b-aa7a-493b-b6ca-ca19efb094b2",
   "metadata": {},
   "source": [
    "### The distribution of $\\hat \\mu_A$\n",
    "\n",
    "\n",
    "* Note that $\\hat \\mu_A$ is a linear combination of $16$ observations.\n",
    "\n",
    "\n",
    "* The coefficients are either $1/8$ or $-1/8$. \n",
    "\n",
    "\n",
    "* Hence,\n",
    "$\n",
    "var \\{ \\hat \\mu_A \\} = \\frac{16 \\sigma^2}{8^2} = \\frac{1}{4} \\sigma^2.\n",
    "$\n",
    "\n",
    "\n",
    "* Also, a natural estimator of $\\sigma^2$ is\n",
    "$\n",
    "s^2 = \\frac{1}{16} [\\{ (-3)-(-1)\\}^2 + （每一对y 的差）^2 + (6-5)^2] = 0.6875.\n",
    "$.\n",
    "\n",
    "\n",
    "* A t-statistic for testing $H_0: \\mu_A = 0$ is \n",
    "$\n",
    "t =\n",
    "\\frac{ \\hat \\mu_A - \\mu_A}{\\sqrt{s^2/4}} = 4.74\n",
    "$."
   ]
  },
  {
   "cell_type": "markdown",
   "id": "c20a2921-c8b2-4f02-b7b3-76b47a2530c8",
   "metadata": {},
   "source": [
    "对于这种类型的题 Bonferroni's method will be easy to implement, Tukey's approach is not applicable here.\n",
    "* The 95\\% CI for $\\mu_A$ is\n",
    "$\n",
    "\\hat \\mu_A \\pm qt(0.975,n) \\sqrt{ \\frac{\\sigma^2}{number of +/-}} = 1.875 \\pm qt(0.975,8) \\sqrt{ 0.6875/4}\n",
    "$."
   ]
  },
  {
   "cell_type": "markdown",
   "id": "bd7fa2f9",
   "metadata": {},
   "source": [
    "#### simutaneous CI see slides"
   ]
  },
  {
   "cell_type": "markdown",
   "id": "64872218",
   "metadata": {},
   "source": [
    "## Interaction"
   ]
  },
  {
   "cell_type": "markdown",
   "id": "cf30ac49",
   "metadata": {},
   "source": [
    "### definittion of interaction:  \n",
    "            The difference between the effect of B given  𝐴=+  minus the effect of  𝐵  given  𝐴=−  is called the interaction of  𝐴  and  𝐵 ."
   ]
  },
  {
   "cell_type": "markdown",
   "id": "7ed0008f",
   "metadata": {},
   "source": [
    "### 怎么画interaction plot"
   ]
  },
  {
   "cell_type": "markdown",
   "id": "ebb3894c",
   "metadata": {},
   "source": [
    "1. 首先对数据图表按照 +- 分类\n",
    "2. 找到对应的"
   ]
  },
  {
   "cell_type": "markdown",
   "id": "34696559",
   "metadata": {},
   "source": [
    "### Expanding the design plan\n",
    "\n",
    "\n",
    "|run | A | B | C | AB | AC | BC | ABC | $y_{i1}$ | $y_{i2}$ |\n",
    "|---|---|---|---|---|---|---|---|---|---|\n",
    "|1 | $-$ | $-$ | $-$ |    $+$ | $+$ | $+$ | |$-3$ | $-1$|\n",
    "|2 | $-$ | $-$ | $+$ |    $+$ | $-$ | $-$ | $+$|$0 $ | $1$ |\n",
    "|3 | $-$ | $+$ | $-$ |    $-$ | $+$ |  | $+$|$-1$ | $0$ |\n",
    "|4 | $-$ | $+$ | $+$ |    $-$ | $-$ | $+$ | $-$|$ 2$ | $3$ |\n",
    "|5 | $+$ | $-$ | $-$ |    $-$ | $-$ | $+$ | $+$|$-1$ | $0$ |\n",
    "|6 | $+$ | $-$ | $+$ |    $-$ |  | $-$ | $-$|$ 2$ | $1$ |\n",
    "|7 | $+$ | $+$ | $-$ |    $+$ | $-$ | $-$ ||$ 1$ | $2$ |\n",
    "|8 | $+$ | $+$ | $+$ |    $+$ | $+$ | $+$ | $+$|$ 6$ | $5$ |\n",
    "\n",
    "\n",
    "The levels in column AB are obtained as product of signs in\n",
    "columns A and B."
   ]
  },
  {
   "cell_type": "markdown",
   "id": "fa5acd57",
   "metadata": {},
   "source": [
    "怎么解这种题？  \n",
    "我们只要正常相乘就好。"
   ]
  },
  {
   "cell_type": "markdown",
   "id": "dddeb663",
   "metadata": {},
   "source": [
    "model for full factorial  design?  \n",
    "* For a $2^3$ design, the full model is\n",
    "\n",
    "$$\n",
    "y_{il} = \\eta  \\pm 0.5 \\mu_A \n",
    "\\pm 0.5 \\mu_B\n",
    "\\pm 0.5 \\mu_C\n",
    "\\pm 0.5 \\mu_{AB}\n",
    "\\pm 0.5 \\mu_{AC}\n",
    "\\pm 0.5 \\mu_{BC}\n",
    "\\pm 0.5 \\mu_{ABC}\n",
    "+\n",
    "\\epsilon_{il}.\n",
    "$$"
   ]
  },
  {
   "cell_type": "markdown",
   "id": "39476862",
   "metadata": {},
   "source": [
    "### Sum of squares of factor $A$.  \n",
    "$\n",
    "\\mbox{SS}_A = n2^{k-2} \\hat \\mu_A^2.\n",
    "$.  \n",
    "df = 1"
   ]
  },
  {
   "cell_type": "markdown",
   "id": "e7d0c72c",
   "metadata": {},
   "source": [
    "### ANOVA Table for the $2^k$ full factorial with $n$ replicates\n",
    "\n",
    "\\begin{matrix}\n",
    "\\mbox{Source} & \\mbox{SS} & \\mbox{DF} & \\mbox{MSS} & F \\\\ \n",
    "\\\\\n",
    "A  & n2^{k-2}\\hat \\mu_A^2     & 1 \\\\\n",
    "\\\\\n",
    "AB & n2^{k-2}\\hat \\mu_{AB}^2  & 1 \\\\\n",
    "\\\\\n",
    "ABC& n2^{k-2}\\hat \\mu_{ABC}^2 & 1 \\\\\n",
    "\\\\\n",
    "Error& (n-1) \\sum s_i^2 & (n-1)2^k \\\\\n",
    "\\\\\n",
    "\\end{matrix}\n",
    "\n",
    "\n",
    "\n",
    "\n",
    "* We used $s_i^2$ as the sample variance based on $n$ replicates in the $i$th run.\n",
    "\n",
    "\n",
    "* Note that $(n-1) s_i^2 = \\sum_{j=1}^n (y_{ij} - \\bar y_{i \\cdot})^2$."
   ]
  },
  {
   "cell_type": "markdown",
   "id": "8e64b3e1",
   "metadata": {},
   "source": [
    " full factorial design advantages:  \n",
    " * Generalize this idea, to estimate all $k$ main effects with this precision, the one-factor-at-a-time design needs in total\n",
    "$n (k+1) 2^{k-1}$ replicates. \n",
    "\n",
    "\n",
    " > -- with one-factor-at-a-time design: $n (k+1) 2^{k-1}$ replicates;\n",
    " \n",
    " > -- with the full factorial design: $n 2^{k}$ replicates.\n",
    " \n",
    " * Since $k \\geq 2$, the full factorial design needs fewer replicates."
   ]
  },
  {
   "cell_type": "markdown",
   "id": "ad49284c",
   "metadata": {},
   "source": [
    "### 对应的code （ 看code file）\n"
   ]
  },
  {
   "cell_type": "markdown",
   "id": "1906edb9",
   "metadata": {},
   "source": [
    "# 7.2"
   ]
  },
  {
   "cell_type": "markdown",
   "id": "5b020387",
   "metadata": {},
   "source": [
    "## read interaction file\n",
    "\n",
    "* The two lines cross each other: a strong indication that their interaction is significant.\n",
    "* As long as two lines are not parallel, there is a hint of the interaction effect. \n",
    "* The interaction effect could be significant even if they do not cross each other."
   ]
  },
  {
   "cell_type": "markdown",
   "id": "7e44b0d3",
   "metadata": {},
   "source": [
    "* **It is helpful to recall the generic recipe for CI of a parameter $\\theta$ again:\n",
    "\n",
    "$$ \\hat \\theta \\pm qt(0.975, df) \\sqrt{\\widehat{\\mbox{var}}(\\hat \\theta)}.$$\n",
    "\n",
    "\n",
    "* Translated to hypothesis test, reject $H_0: \\theta = \\theta_0$ when $\\theta_0$ is not in this interval."
   ]
  },
  {
   "cell_type": "markdown",
   "id": "21473b2d",
   "metadata": {},
   "source": [
    "# 需要问提一下 \n",
    "1. n reprsent what ?\n",
    "2. 48,24 哪来的\n",
    "3.\n"
   ]
  },
  {
   "cell_type": "markdown",
   "id": "872e37f2",
   "metadata": {},
   "source": [
    "### Variance\n",
    "\n",
    "\n",
    "* The pooled variance estimator equals $\\hat \\sigma^2 = 19.005/80 = 0.2375$.\n",
    "\n",
    "\n",
    "* Recall $\\hat \\mu_A = \\bar z (A+) - \\bar z (A-)$, and there are $8*6=48$ response values corresponding to $A+$.\n",
    "\n",
    "\n",
    "* Hence,\n",
    "\n",
    "$$\n",
    " \\mbox{var} (\\hat \\mu_A) = \\sigma^2 ( \\frac{1}{48} + \\frac{1}{48}) = \\sigma^2/24.\n",
    "$$\n",
    " \n",
    " "
   ]
  },
  {
   "cell_type": "markdown",
   "id": "3417074c",
   "metadata": {},
   "source": [
    "# 这个是啥\n",
    "\n",
    "### Answer: we chould if we choose\n",
    " \n",
    " \n",
    " \n",
    "* Let us consider the null hypothesis of $H_0: \\mu_A = 0$ against $H_a: \\mu_A \\neq 0$. \n",
    "\n",
    "\n",
    "* If F-test is to be used, we would compute \n",
    "\n",
    "$$\n",
    "\\mbox{SS}(A) = n*2^{k-1}\\{\\hat \\mu_{A+}^2 + \\hat \\mu_{A-}^2\\}\n",
    "$$\n",
    "\n",
    "\n",
    "* In the current design, each factor has exactly 2 levels ($+$ and $-$),\n",
    "we would have required $\\mu_{A+} + \\hat \\mu_{A-} = 0$.\n",
    "\n",
    "\n",
    "* Hence, $\\hat \\mu_{A+}^2 = \\hat \\mu_{A-}^2$.\n",
    "\n",
    "\n",
    "* Hence, the values of F-statistic and T-statistics determine each other.\n",
    " \n",
    "\n",
    "* Conclusiong: F-test and t-test are equivalent under this design.\n",
    " \n",
    "\n",
    "* We will use ANOVA table as a systematic approach soon.\n",
    " \n",
    " "
   ]
  },
  {
   "cell_type": "markdown",
   "id": "abf177c6",
   "metadata": {},
   "source": [
    "# 7.3"
   ]
  },
  {
   "cell_type": "markdown",
   "id": "1eac70f0",
   "metadata": {},
   "source": [
    "### Some counts for a full factorial design.\n",
    "\n",
    "* In an experiment containing $k$ factors, there are\n",
    "\n",
    " -- $k$ main effects;\n",
    "\n",
    " -- ${k \\choose 2}$ 2-factor interactions;\n",
    "\n",
    " -- ${k \\choose 3}$ 3-factor interactions;\n",
    "\n",
    " --  and so on.\n",
    "\n",
    "\n",
    "* The total number is $2^k - 1$."
   ]
  },
  {
   "cell_type": "markdown",
   "id": "65612a6f",
   "metadata": {},
   "source": [
    "### Parameter estimation\n",
    "\n",
    "\n",
    "* Let X be the name of a factor.\n",
    "\n",
    "\n",
    "* Let the model be $y = \\eta \\pm 0.5\\mu_A \\pm 0.5 \\mu_B \\pm \\cdots \\cdots + \\epsilon$;\n",
    "\n",
    "\n",
    "* We estimate $\\mu_X$ by\n",
    "$$\\hat \\mu_X = \\bar z (X = +) - \\bar z (X = -).$$\n",
    "\n",
    "\n",
    "* The sum of squares of $X$ is given by\n",
    "\n",
    "$$\n",
    "SS(X) = n 2^{k-1} [(0.5\\hat \\mu_X)^2+ (-0.5\\hat \\mu_X)^2] = n 2^{k-2} \\hat \\mu_X^2.\n",
    "$$\n",
    "\n",
    "\n",
    "* It has one degree of freedom."
   ]
  },
  {
   "cell_type": "markdown",
   "id": "017877e5",
   "metadata": {},
   "source": [
    "### Sum of Squares for error term.\n",
    "\n",
    "\n",
    "* When the number of replicates $n > 1$, the sum of squares of err (or residual) is  given by \n",
    "\n",
    "$$\n",
    "SS(err) = (n-1) \\sum_{i=1}^{2^k} s_i^2 \n",
    "= \\sum_{i=1}^{2^k} \n",
    "\\sum_{j=1}^n (y_{ij} - \\bar y_{i \\cdot})^2\n",
    "$$\n",
    "\n",
    "where $s_i^2$ is the sample variance formed by $n$ values in run $i$.\n",
    "\n",
    "\n",
    "* Its df = $(n-1)2^k$.\n",
    "\n",
    "\n",
    "* Note that $(n-1)s_i^2 = \\sum_{j=1}^n (y_{ij} - \\bar y_{i \\cdot})^2$.\n"
   ]
  },
  {
   "cell_type": "markdown",
   "id": "95e60e9a",
   "metadata": {},
   "source": [
    "### ANOVA table\n",
    "\n",
    "\\begin{array}{ccccc}\n",
    "Source & SS & df & MSS & F\\\\\n",
    "A & n 2^{k-2} \\hat \\mu_A^2 & 1 & n 2^{k-2} \\hat \\mu_A^2 & MSS(A)/MSS(err)\\\\\n",
    "B & n 2^{k-2} \\hat \\mu_B^2 & 1 & n 2^{k-2} \\hat \\mu_B^2 & \\cdots &\\\\\n",
    "AB & n 2^{k-2} \\hat \\mu_{AB}^2 & 1 & n 2^{k-2} \\hat \\mu_{AB}^2 & \\cdots & \\\\\n",
    "\\cdots & \\cdots & \\cdots & \\cdots & \\cdots &\\\\\n",
    "Resi & (n-1) \\sum_{i=1}^{2^k} s_i^2 & (n-1)2^k & 2^{-k} \\sum_{i=1}^{2^k} s_i^2 & \\\\\n",
    "Total & \\sum_{i=1}^{2^k}\\sum_{j=1}^n (y_{ij} - \\bar y_{\\cdot \\cdot})^2  & n2^k -1 & SS(T)/(n2^k - 1)\n",
    "\\end{array}\n",
    "\n",
    "\n",
    "* $y_{ij}$: response value in the $i$th run, $j$th replicate;\n",
    "\n",
    "\n",
    "* $\\bar y_{\\cdot \\cdot}$: grand mean response value.\n",
    "\n",
    "\n",
    "* $s_i^2$: sample variance in the $i$th run."
   ]
  },
  {
   "cell_type": "markdown",
   "id": "4415701c",
   "metadata": {},
   "source": [
    "### Repeat/continuation of the previous example (k=4, n=6)\n",
    "\n",
    "$$\n",
    "\\begin{array}{rcccccc}\n",
    "run &D & C & B&  A& \\bar y & s^2\\\\ \n",
    "1& - & - & - & - & 14.59 & .270\\\\\n",
    "2& + & - & - & - & 13.59 & .291\\\\\n",
    "3& - & + & - & - & 14.24 & .268\\\\\n",
    "4& + & + & - & - & 14.05 & .197\\\\\n",
    "5& - & - & + & - & 14.65 & .221\\\\\n",
    "6& + & - & + & - & 13.94 & .205\\\\\n",
    "7& - & + & + & - & 14.40 & .222\\\\\n",
    "8& + & + & + & - & 14.14 & .215\\\\\n",
    "9& - & - & - & + & 14.67 & .269\\\\\n",
    "10&+ & - & - & + & 13.72 & .272\\\\\n",
    "11&- & + & - & + & 13.84 & .220\\\\\n",
    "12&+ & + & - & + & 13.90 & .229\\\\\n",
    "13&- & - & + & + & 14.56 & .227\\\\\n",
    "14&+ & - & + & + & 13.88 & .253\\\\\n",
    "15&- & + & + & + & 14.30 & .250\\\\\n",
    "16&+ & + & + & + & 14.11 & .192\\\\ \n",
    "\\end{array}\n",
    "$$"
   ]
  },
  {
   "cell_type": "markdown",
   "id": "f5662529",
   "metadata": {},
   "source": [
    "### Are these effects significantly different from 0?\n",
    "\n",
    "* Test for $H_0: \\mu_X = 0$ for individually.\n",
    "\n",
    "\n",
    "* The experiment error is estimated as $MSS(err) = mean(ss) = 0.2375625$. \n",
    "\n",
    "\n",
    "* Its $df = (n-1)*2^k = 5*16 = 80$.\n",
    "\n",
    "\n",
    "* We have\n",
    "\n",
    "$$var(\\hat \\mu_X) = \\sigma^2 [ \\frac{1}{n 2^{k-1}} + \\frac{1}{n 2^{k-1}}] = \\frac{\\sigma^2}{(n2^{k-2})} = \\frac{\\sigma^2}{24}.$$\n",
    "\n",
    "\n",
    "* The 95% CI for $\\mu_X$ is\n",
    "\n",
    "$$\\hat \\mu_X \\pm 1.99*(0.23756/24)^.5 = \\hat \\mu_X \\pm 0.198.$$\n",
    "\n",
    "\n",
    "* In this example, D and CD are significant."
   ]
  },
  {
   "cell_type": "markdown",
   "id": "01085da8",
   "metadata": {},
   "source": [
    "### What do we find from this plot?\n",
    "\n",
    "\n",
    "* The estimated effect of D does not lineup.\n",
    "\n",
    "\n",
    "* The estimated effect of CD does not lineup, obvious because we knew this effect is significant.\n",
    "\n",
    "\n",
    "* The rest of the estimated effects stay close to a straight line."
   ]
  },
  {
   "cell_type": "markdown",
   "id": "dec7e401",
   "metadata": {},
   "source": [
    "### Half-normal plot\n",
    "\n",
    "* The effect of D and the effect of CD are in two different side of 0.\n",
    "\n",
    "\n",
    "* The normal plot makes it hard to identify significant effects in this case.\n",
    "\n",
    "\n",
    "* Why do not we plot $|\\hat \\mu_X|$ against quantiles of $|N(0, 1)|$ instead.\n",
    "\n",
    "\n",
    "* This leads to the half-normal plot"
   ]
  },
  {
   "cell_type": "markdown",
   "id": "4a04a5ac",
   "metadata": {},
   "source": [
    "# 8.1Factional Factorial design\n",
    "\n",
    "Model: $$\n",
    "y_{il} = \\eta \\pm 0.5 \\mu_A \\pm 0.5\\mu_B \\pm 0.5\\mu_C + \\epsilon_{il}\n",
    "$$"
   ]
  },
  {
   "cell_type": "markdown",
   "id": "910c8d3a",
   "metadata": {},
   "source": [
    "* In reality, D is concordant with interaction ABC.\n",
    "​\n",
    "​\n",
    "> an estimate of $\\mu_{ABC}$ is also an estimate of $\\mu_D$. \n",
    "​\n",
    "​\n",
    "* Under our model assumption, \n",
    "​\n",
    "$$\n",
    "\\bar z(D+) - \\bar z(D-) \n",
    "= \\mu_D + \\mu_{ABC} + \\bar \\epsilon(D+) - \\bar \\epsilon(D-).\n",
    "$$\n",
    "​\n",
    "​\n",
    "* Based on this design, we cannot separate $\\mu_D$ and $\\mu_{ABC}$: **factors** D and ABC are  **aliased**.\n",
    "### Confounding\n",
    "\n",
    "\n",
    "* We say that **the effects** $\\mu_D$ and $\\mu_{ABC}$ are **confounded**."
   ]
  },
  {
   "cell_type": "markdown",
   "id": "ee1f384d",
   "metadata": {},
   "source": [
    "### Why is it a fractional factorial design?\n",
    "\n",
    "\n",
    "* The example design is only half the size of a full factorial design (8 versus 16).\n",
    "\n",
    "\n",
    "* We call it a $2^{4-1}$ design with defining relation $I = ABCD$.\n",
    "\n",
    "\n",
    "* A general notation is $2^{k-p}$: $k$ is the number of factors, $p$ is the number of factors assigned to interaction columns of other $k-p$ factors.\n",
    "\n",
    "\n",
    "* The number of runs in this design is $N= 2^{k-p}$, and the fraction is $2^{-p}$."
   ]
  },
  {
   "cell_type": "markdown",
   "id": "db96a666",
   "metadata": {},
   "source": [
    "### Group\n",
    "\n",
    "* From $I = ABD = BCE$, we get\n",
    "\n",
    "$$\n",
    "I = ABD = BCE = ACDE.\n",
    "$$\n",
    "\n",
    "* Regarding $\\{ I, ABD, BCE, ACDE\\}$ as a set of symbols and create\n",
    "a multiplication rule as already used, we get a mathematical object called **group**. \n",
    "\n",
    "\n",
    "* We call this group: **defining contrast subgroup**. We call each element of this group: **words**. \n",
    "\n",
    "\n",
    "* The number of factors contained in a word is called **wordlength**. \n",
    "\n",
    "\n",
    "* The shortest wordlength in a defining contrast subgroup (do not count I) is defined to be the **resolution** of the design."
   ]
  },
  {
   "cell_type": "markdown",
   "id": "76c5c5d9",
   "metadata": {},
   "source": [
    "### Statistical consensus\n",
    "\n",
    "\n",
    "* A consensus in the design of experiment is: the higher order interactions are less likely to have significant effects.\n",
    "\n",
    "\n",
    "* When the main effects are confounded to only 3-factor or higher order interactions, such a design is considered good. It has resolution IV.\n",
    "\n",
    "\n",
    "* In comparison, if $I = AB = \\cdots$, the design has resolution II. \n",
    "\n",
    "\n",
    "* A resolution II design has A and B aliased: very bad.\n"
   ]
  },
  {
   "cell_type": "markdown",
   "id": "cb5d0cf0",
   "metadata": {},
   "source": [
    "main effect confunded with main effect is really bad"
   ]
  },
  {
   "cell_type": "markdown",
   "id": "26930630",
   "metadata": {},
   "source": [
    "### Higher resolution\n",
    "\n",
    "* The higher is the resolution, the better is the design in terms of not confounding lower order interactions with main effects or with each other.\n",
    "\n",
    "\n",
    "* If a fractional factorial has resolution $N$, then a $k$-factor interaction cannot be aliased with $N-k-1$ or lower order interactions.\n",
    "\n",
    "\n",
    "* Under the general belief that the higher order interactions are less likely to be significant, we prefer high resolution designs, given the same number of experimental trials.(我们不是要significant 吗？）"
   ]
  },
  {
   "cell_type": "markdown",
   "id": "70e16d18",
   "metadata": {},
   "source": [
    "### Number of runs and effects\n",
    "\n",
    "* There are $2^5-1 = 31$ potential main effects and interactions. \n",
    "\n",
    "\n",
    "* A $2^{5-1}$ fractional factorial design is used. \n",
    "\n",
    "\n",
    "* This is a resolution $IV =4$ design.  Its main effects are aliased only to 3-factor interactions (or of higher orders). \n",
    "\n",
    "\n",
    "* There are, however, $n=3$ replicates for each run.（n=3哪来的)"
   ]
  },
  {
   "cell_type": "markdown",
   "id": "8e0abcc3",
   "metadata": {},
   "source": [
    "# 8.2\n"
   ]
  },
  {
   "cell_type": "markdown",
   "id": "5d3cfa92",
   "metadata": {},
   "source": [
    "$ var(\\hat \\mu)= \\frac{1}{(\\frac{number of runs}{2})^2}*1/n*\\sum s_i^2\n",
    "$"
   ]
  },
  {
   "cell_type": "markdown",
   "id": "63f4a492",
   "metadata": {},
   "source": []
  },
  {
   "cell_type": "markdown",
   "id": "563e40ab",
   "metadata": {},
   "source": []
  },
  {
   "cell_type": "markdown",
   "id": "79048741",
   "metadata": {},
   "source": []
  },
  {
   "cell_type": "markdown",
   "id": "f1716739",
   "metadata": {},
   "source": []
  },
  {
   "cell_type": "markdown",
   "id": "bef3e166",
   "metadata": {},
   "source": []
  },
  {
   "cell_type": "markdown",
   "id": "37487f07",
   "metadata": {},
   "source": []
  },
  {
   "cell_type": "markdown",
   "id": "3b4976de",
   "metadata": {},
   "source": []
  },
  {
   "cell_type": "markdown",
   "id": "266cf674",
   "metadata": {},
   "source": []
  },
  {
   "cell_type": "markdown",
   "id": "59ed51e6",
   "metadata": {},
   "source": []
  },
  {
   "cell_type": "markdown",
   "id": "c04f19fe",
   "metadata": {},
   "source": []
  },
  {
   "cell_type": "markdown",
   "id": "7272446f",
   "metadata": {},
   "source": []
  },
  {
   "cell_type": "markdown",
   "id": "e6e68b0e",
   "metadata": {},
   "source": []
  },
  {
   "cell_type": "markdown",
   "id": "29b7fb2a",
   "metadata": {},
   "source": []
  },
  {
   "cell_type": "markdown",
   "id": "61d37b3c",
   "metadata": {},
   "source": []
  },
  {
   "cell_type": "markdown",
   "id": "023283f3",
   "metadata": {},
   "source": []
  }
 ],
 "metadata": {
  "kernelspec": {
   "display_name": "R",
   "language": "R",
   "name": "ir"
  },
  "language_info": {
   "codemirror_mode": "r",
   "file_extension": ".r",
   "mimetype": "text/x-r-source",
   "name": "R",
   "pygments_lexer": "r",
   "version": "4.0.5"
  }
 },
 "nbformat": 4,
 "nbformat_minor": 5
}
