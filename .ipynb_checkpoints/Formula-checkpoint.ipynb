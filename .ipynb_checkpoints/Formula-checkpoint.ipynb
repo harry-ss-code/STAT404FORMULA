{
 "cells": [
  {
   "cell_type": "code",
   "execution_count": null,
   "id": "e546bbcd-132f-4e4f-ade6-f83930b2b4cc",
   "metadata": {},
   "outputs": [],
   "source": []
  }
 ],
 "metadata": {
  "kernelspec": {
   "display_name": "R",
   "language": "R",
   "name": "ir"
  },
  "language_info": {
   "name": ""
  }
 },
 "nbformat": 4,
 "nbformat_minor": 5
}
